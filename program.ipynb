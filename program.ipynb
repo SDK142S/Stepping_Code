{
 "cells": [
  {
   "cell_type": "code",
   "execution_count": 1,
   "metadata": {},
   "outputs": [
    {
     "name": "stdout",
     "output_type": "stream",
     "text": [
      "6\n"
     ]
    }
   ],
   "source": [
    "\"\"\" Write a Python program to calculate the factorial of a number \"\"\"\n",
    "num = int(input(\"enter the number\"))\n",
    "fact = 1\n",
    "for i in range(1,num+1):\n",
    "    fact = fact*i\n",
    "print(fact)"
   ]
  },
  {
   "cell_type": "code",
   "execution_count": 6,
   "metadata": {},
   "outputs": [
    {
     "name": "stdout",
     "output_type": "stream",
     "text": [
      "[('R', 'G', 'B'), ('R', 'B', 'G'), ('G', 'R', 'B'), ('G', 'B', 'R'), ('B', 'R', 'G'), ('B', 'G', 'R')]\n"
     ]
    }
   ],
   "source": [
    "from itertools import permutations\n",
    " \n",
    "#red = int(input(\"enter the number\"))\n",
    "#blue = int(input(\"enter the number\"))\n",
    "#green = int(input(\"enter the number\"))\n",
    "\n",
    "\n",
    "comb = permutations(['R', 'G', 'B']) \n",
    "print(list(comb))\n",
    "# Print the obtained combinations \n"
   ]
  },
  {
   "cell_type": "code",
   "execution_count": 10,
   "metadata": {},
   "outputs": [
    {
     "name": "stdout",
     "output_type": "stream",
     "text": [
      "0\n",
      "1\n",
      "0\n",
      "*******\n",
      "\n",
      "1\n",
      "h\n",
      "*******\n",
      "\n",
      "2\n",
      "e\n",
      "*******\n",
      "\n",
      "e\n",
      "0\n",
      "2\n",
      "*******\n",
      "\n",
      "1\n",
      "2\n",
      "0\n",
      "*******\n",
      "\n",
      "2\n",
      "e\n",
      "h\n",
      "h\n"
     ]
    }
   ],
   "source": [
    "#Write a Python code to find the first non-repeating character in a string\n",
    "def non_repeating(string):\n",
    "    length = len(string)\n",
    "    for char in range(0,length):\n",
    "        flag =0\n",
    "        value = char+1\n",
    "        print(char)\n",
    "        print(value)\n",
    "        print(flag)\n",
    "        for val in range(value,length):\n",
    "            print(\"*******\\n\")\n",
    "            print(val)\n",
    "            print(string[val])\n",
    "            if string[char] == string[val]:\n",
    "                print(\"*******\\n\")\n",
    "                print(string[char])\n",
    "                print(flag)\n",
    "                print(val)\n",
    "                print(\"*******\\n\")\n",
    "                flag =1\n",
    "        if flag == 0:\n",
    "            print(string[char])\n",
    "            return string[char]\n",
    "\n",
    "string = input(\"Enter the string : \")\n",
    "char = non_repeating(string) \n",
    "print(char) "
   ]
  },
  {
   "cell_type": "code",
   "execution_count": 7,
   "metadata": {},
   "outputs": [
    {
     "name": "stdout",
     "output_type": "stream",
     "text": [
      "(1, 2)\n",
      "(1, 3)\n",
      "(2, 3)\n"
     ]
    }
   ],
   "source": [
    "# A Python program to print all \n",
    "# combinations of given length\n",
    "from itertools import combinations\n",
    " \n",
    "# Get all combinations of [1, 2, 3]\n",
    "# and length 2\n",
    "comb = combinations([1, 2, 3], 2)\n",
    " \n",
    "# Print the obtained combinations\n",
    "for i in list(comb):\n",
    "    print (i)"
   ]
  },
  {
   "cell_type": "code",
   "execution_count": 3,
   "metadata": {},
   "outputs": [
    {
     "name": "stdout",
     "output_type": "stream",
     "text": [
      "<class 'str'>\n",
      "1234\n"
     ]
    }
   ],
   "source": [
    "\"\"\" 7. Write a Python code to convert a string to an integer\n",
    " \"\"\"\n",
    "string = \"1234\"\n",
    "print(type(string)) \n",
    "print(int(string))\n",
    "\n"
   ]
  },
  {
   "cell_type": "code",
   "execution_count": 4,
   "metadata": {},
   "outputs": [
    {
     "name": "stdout",
     "output_type": "stream",
     "text": [
      "15\n"
     ]
    }
   ],
   "source": [
    "# Write a Python program to calculate the area of a rectangle\n",
    "length = int(input(\"enter the length of the rectangle\"))\n",
    "breadth = int(input(\"enter the breadth of the rectangle\"))\n",
    "area = length*breadth\n",
    "print(area)"
   ]
  },
  {
   "cell_type": "code",
   "execution_count": 25,
   "metadata": {},
   "outputs": [
    {
     "name": "stdout",
     "output_type": "stream",
     "text": [
      "[1, 2, 3, 4]\n",
      "[10, 20, 30, 40]\n",
      "{1: 10, 2: 20, 3: 30, 4: 40}\n"
     ]
    }
   ],
   "source": [
    "# Write a Python code to merge two dictionaries\n",
    "\n",
    "dict1 = {1:10, 2:20}\n",
    "dict2 = {3:30, 4:40}\n",
    "ls1 = list(dict1.keys()) + list(dict2.keys())\n",
    "lst1 = list(dict1.values()) + list(dict2.values())\n",
    "dict3 = dict(zip(ls1, lst1))\n",
    "print(ls1)\n",
    "print(lst1)\n",
    "print(dict3)"
   ]
  },
  {
   "cell_type": "code",
   "execution_count": null,
   "metadata": {},
   "outputs": [],
   "source": [
    "\"\"\" dict1 = {'a': 1, 'b': 2}\n",
    "dict2 = {'b': 3, 'c': 4}\n",
    "merged = {**dict1, **dict2}\n",
    "print(merged) #{'a': 1, 'b': 3, 'c': 4} \"\"\"\n"
   ]
  },
  {
   "cell_type": "code",
   "execution_count": 26,
   "metadata": {},
   "outputs": [
    {
     "name": "stdout",
     "output_type": "stream",
     "text": [
      "[4, 5]\n"
     ]
    }
   ],
   "source": [
    "# Write a Python program to find common elements in two lists\n",
    "list1 = [1,2,3,4,5]\n",
    "list2 = [4,5,6,7,8]\n",
    "common = [i for i in list1 if i in list2]\n",
    "print(common)"
   ]
  },
  {
   "cell_type": "code",
   "execution_count": 27,
   "metadata": {},
   "outputs": [
    {
     "name": "stdout",
     "output_type": "stream",
     "text": [
      "[3, 4]\n"
     ]
    }
   ],
   "source": [
    "list1 = [1, 2, 3, 4]\n",
    "list2 = [3, 4, 5, 6]\n",
    "common = list(set(list1) & set(list2))\n",
    "print(common) "
   ]
  },
  {
   "cell_type": "code",
   "execution_count": 28,
   "metadata": {},
   "outputs": [
    {
     "name": "stdout",
     "output_type": "stream",
     "text": [
      "[1, 2, 3, 4, 5]\n"
     ]
    }
   ],
   "source": [
    "list1 = [1, 2, 3, 4, 2, 3, 4, 5]\n",
    "unique = list(set(list1))\n",
    "print(unique)"
   ]
  },
  {
   "cell_type": "code",
   "execution_count": 30,
   "metadata": {},
   "outputs": [
    {
     "name": "stdout",
     "output_type": "stream",
     "text": [
      "True\n"
     ]
    }
   ],
   "source": [
    "def palin(string):\n",
    "    length = len(string)\n",
    "    for i in range(length):\n",
    "        if string[i].lower() != string[length-i-1].lower():\n",
    "            return False\n",
    "        else:\n",
    "            return True\n",
    "string = \"Malayalam\"\n",
    "print(palin(string))\n"
   ]
  },
  {
   "cell_type": "code",
   "execution_count": 34,
   "metadata": {},
   "outputs": [
    {
     "name": "stdout",
     "output_type": "stream",
     "text": [
      "True\n",
      "False\n"
     ]
    }
   ],
   "source": [
    "def is_palindrome(s):\n",
    "    return list(s) == list(reversed(s))\n",
    "    #return s == s[::-1]\n",
    "print(is_palindrome(\"radar\"))  \n",
    "print(is_palindrome(\"hello\"))  "
   ]
  },
  {
   "cell_type": "code",
   "execution_count": 35,
   "metadata": {},
   "outputs": [
    {
     "name": "stdout",
     "output_type": "stream",
     "text": [
      "programming\n"
     ]
    }
   ],
   "source": [
    "#Write a Python program to find the longest word in a sentence\n",
    "sentence = \"Python is a programming language\"\n",
    "long = \"\"\n",
    "for word in sentence.split():\n",
    "    if len(word) > len(long):\n",
    "        long = word\n",
    "print(long)\n",
    "        "
   ]
  }
 ],
 "metadata": {
  "kernelspec": {
   "display_name": "Python 3",
   "language": "python",
   "name": "python3"
  },
  "language_info": {
   "codemirror_mode": {
    "name": "ipython",
    "version": 3
   },
   "file_extension": ".py",
   "mimetype": "text/x-python",
   "name": "python",
   "nbconvert_exporter": "python",
   "pygments_lexer": "ipython3",
   "version": "3.10.12"
  },
  "orig_nbformat": 4
 },
 "nbformat": 4,
 "nbformat_minor": 2
}
