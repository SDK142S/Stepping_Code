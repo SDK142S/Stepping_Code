{
 "cells": [
  {
   "cell_type": "code",
   "execution_count": null,
   "metadata": {},
   "outputs": [],
   "source": [
    "\"\"\" Concatenate the string 'Thirty', 'Days', 'Of', 'Python' to a single string, 'Thirty Days Of Python'.\n",
    "Concatenate the string 'Coding', 'For' , 'All' to a single string, 'Coding For All'.\n",
    "Declare a variable named company and assign it to an initial value \"Coding For All\".\n",
    "Print the variable company using print().\n",
    "Print the length of the company string using len() method and print().\n",
    "Change all the characters to uppercase letters using upper() method.\n",
    "Change all the characters to lowercase letters using lower() method.\n",
    "Use capitalize(), title(), swapcase() methods to format the value of the string Coding For All.\n",
    "Cut(slice) out the first word of Coding For All string.\n",
    "Check if Coding For All string contains a word Coding using the method index, find or other methods.\n",
    "Replace the word coding in the string 'Coding For All' to Python.\n",
    "Change Python for Everyone to Python for All using the replace method or other methods.\n",
    "Split the string 'Coding For All' using space as the separator (split()) .\n",
    "\"Facebook, Google, Microsoft, Apple, IBM, Oracle, Amazon\" split the string at the comma.\n",
    "What is the character at index 0 in the string Coding For All.\n",
    "What is the last index of the string Coding For All.\n",
    "What character is at index 10 in \"Coding For All\" string.\n",
    "Create an acronym or an abbreviation for the name 'Python For Everyone'.\n",
    "Create an acronym or an abbreviation for the name 'Coding For All'.\n",
    "Use index to determine the position of the first occurrence of C in Coding For All.\n",
    "Use index to determine the position of the first occurrence of F in Coding For All.\n",
    "Use rfind to determine the position of the last occurrence of l in Coding For All People.\n",
    "Use index or find to find the position of the first occurrence of the word 'because' in the following sentence: 'You cannot end a sentence with because because because is a conjunction'\n",
    "Use rindex to find the position of the last occurrence of the word because in the following sentence: 'You cannot end a sentence with because because because is a conjunction'\n",
    "Slice out the phrase 'because because because' in the following sentence: 'You cannot end a sentence with because because because is a conjunction'\n",
    "Find the position of the first occurrence of the word 'because' in the following sentence: 'You cannot end a sentence with because because because is a conjunction'\n",
    "Slice out the phrase 'because because because' in the following sentence: 'You cannot end a sentence with because because because is a conjunction'\n",
    "Does ''Coding For All' start with a substring Coding?\n",
    "Does 'Coding For All' end with a substring coding?\n",
    "'   Coding For All      '  , remove the left and right trailing spaces in the given string.\n",
    "Which one of the following variables return True when we use the method isidentifier():\n",
    "30DaysOfPython\n",
    "thirty_days_of_python\n",
    "The following list contains the names of some of python libraries: ['Django', 'Flask', 'Bottle', 'Pyramid', 'Falcon']. Join the list with a hash with space string.\n",
    "Use the new line escape sequence to separate the following sentences.\n",
    "I am enjoying this challenge.\n",
    "I just wonder what is next. \"\"\"\n"
   ]
  },
  {
   "cell_type": "code",
   "execution_count": 16,
   "metadata": {},
   "outputs": [
    {
     "name": "stdout",
     "output_type": "stream",
     "text": [
      "Coding For All\n"
     ]
    }
   ],
   "source": [
    "word_new = '   Coding For All      '\n",
    "new = 'For'\n",
    "print(word_new.strip(\"   \")) # remove starting and ending space\n"
   ]
  },
  {
   "cell_type": "code",
   "execution_count": 11,
   "metadata": {},
   "outputs": [
    {
     "name": "stdout",
     "output_type": "stream",
     "text": [
      "Thirty Days Of Python\n",
      "CODING FOR ALL\n",
      "['Coding', 'For', 'All']\n",
      "['Facebook', ' Google', ' Microsoft', ' Apple', ' IBM', ' Oracle', ' Amazon']\n",
      "A\n",
      "True\n",
      "0\n",
      "13\n"
     ]
    }
   ],
   "source": [
    "\n",
    "print('Thirty'+\" \"+ 'Days'+ \" \"+'Of'+\" \"+ 'Python')\n",
    "company = \"Coding For All\"\n",
    "print(company.upper())\n",
    "print(company.split(\" \"))\n",
    "words = \"Facebook, Google, Microsoft, Apple, IBM, Oracle, Amazon\"\n",
    "print(words.split(','))\n",
    "print(company[11])\n",
    "print(company.startswith('C'))\n",
    "print(company.index('C')) # starting index\n",
    "print(company.rindex('l')) # ending index"
   ]
  }
 ],
 "metadata": {
  "kernelspec": {
   "display_name": "Python 3",
   "language": "python",
   "name": "python3"
  },
  "language_info": {
   "codemirror_mode": {
    "name": "ipython",
    "version": 3
   },
   "file_extension": ".py",
   "mimetype": "text/x-python",
   "name": "python",
   "nbconvert_exporter": "python",
   "pygments_lexer": "ipython3",
   "version": "3.10.12"
  },
  "orig_nbformat": 4
 },
 "nbformat": 4,
 "nbformat_minor": 2
}
