{
 "cells": [
  {
   "cell_type": "code",
   "execution_count": 14,
   "metadata": {},
   "outputs": [
    {
     "name": "stdout",
     "output_type": "stream",
     "text": [
      "(2, 3, 4, 5)\n",
      "<class 'int'>\n",
      "2\n",
      "2\n"
     ]
    }
   ],
   "source": [
    "\"\"\" \n",
    "Write a function called add_all_nums which takes arbitrary number of arguments and sums all the arguments. Check if all the list items are number types. If not do give a reasonable feedback.\n",
    "Temperature in °C can be converted to °F using this formula: °F = (°C x 9/5) + 32. Write a function which converts °C to °F, convert_celsius_to-fahrenheit.\n",
    "Write a function called check-season, it takes a month parameter and returns the season: Autumn, Winter, Spring or Summer.\n",
    "Write a function called calculate_slope which return the slope of a linear equation \"\"\"\n",
    "\n",
    "\n",
    "def sums(*args):\n",
    "    sum=0\n",
    "    print(args)\n",
    "    for arg in args:\n",
    "        print(type(arg))\n",
    "        print(arg)\n",
    "        #if type(arg)=='int':\n",
    "        sum=sum+arg\n",
    "        return(sum)\n",
    "        #else:\n",
    "            \n",
    "            #print(\"check your list\")\n",
    "a = sums(2,3,4,5)\n",
    "print(a)\n",
    "#sum(2,'sum',3)\n",
    "\n",
    "    "
   ]
  }
 ],
 "metadata": {
  "kernelspec": {
   "display_name": "Python 3",
   "language": "python",
   "name": "python3"
  },
  "language_info": {
   "codemirror_mode": {
    "name": "ipython",
    "version": 3
   },
   "file_extension": ".py",
   "mimetype": "text/x-python",
   "name": "python",
   "nbconvert_exporter": "python",
   "pygments_lexer": "ipython3",
   "version": "3.10.12"
  },
  "orig_nbformat": 4
 },
 "nbformat": 4,
 "nbformat_minor": 2
}
