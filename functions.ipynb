{
 "cells": [
  {
   "cell_type": "code",
   "execution_count": 24,
   "metadata": {},
   "outputs": [
    {
     "name": "stdout",
     "output_type": "stream",
     "text": [
      "14\n",
      "you got s not a integer\n"
     ]
    },
    {
     "data": {
      "text/plain": [
       "2"
      ]
     },
     "execution_count": 24,
     "metadata": {},
     "output_type": "execute_result"
    }
   ],
   "source": [
    "\"\"\" \n",
    "Write a function called add_all_nums which takes arbitrary number of arguments and sums all the arguments. Check if all the list items are number types. If not do give a reasonable feedback.\n",
    "Temperature in °C can be converted to °F using this formula: °F = (°C x 9/5) + 32. Write a function which converts °C to °F, convert_celsius_to-fahrenheit.\n",
    "Write a function called check-season, it takes a month parameter and returns the season: Autumn, Winter, Spring or Summer.\n",
    "Write a function called calculate_slope which return the slope of a linear equation \"\"\"\n",
    "\n",
    "\n",
    "def sums(*args):\n",
    "    sum=0\n",
    "    for arg in args:\n",
    "        if type(arg)== int:\n",
    "            sum+=arg\n",
    "        else:\n",
    "            print(f'you got {arg} not a integer')\n",
    "            break\n",
    "    return(sum)\n",
    "        \n",
    "a = sums(2,3,4,5)\n",
    "print(a)\n",
    "sums(2,'s',3)\n",
    "\n",
    "    "
   ]
  },
  {
   "cell_type": "code",
   "execution_count": 15,
   "metadata": {},
   "outputs": [
    {
     "name": "stdout",
     "output_type": "stream",
     "text": [
      "Arguments received: (2, 3, 4, 5)\n",
      "Sum: 14\n",
      "Arguments received: (2, 'sum', 3, 4.5, 6)\n",
      "Skipping non-integer value: sum\n",
      "Skipping non-integer value: 4.5\n",
      "Sum with mixed arguments: 11\n"
     ]
    }
   ],
   "source": [
    "def sums(*args):\n",
    "    total = 0  # Use 'total' instead of 'sum' to avoid shadowing the built-in function 'sum'\n",
    "    print(\"Arguments received:\", args)\n",
    "    for arg in args:\n",
    "        if isinstance(arg, int):  # Check if the argument is an integer\n",
    "            total += arg\n",
    "        else:\n",
    "            print(f\"Skipping non-integer value: {arg}\")\n",
    "    return total\n",
    "\n",
    "# Example usage\n",
    "a = sums(2, 3, 4, 5)\n",
    "print(\"Sum:\", a)\n",
    "\n",
    "# Example with non-integer arguments\n",
    "b = sums(2, 'sum', 3, 4.5, 6)\n",
    "print(\"Sum with mixed arguments:\", b)\n"
   ]
  }
 ],
 "metadata": {
  "kernelspec": {
   "display_name": "Python 3",
   "language": "python",
   "name": "python3"
  },
  "language_info": {
   "codemirror_mode": {
    "name": "ipython",
    "version": 3
   },
   "file_extension": ".py",
   "mimetype": "text/x-python",
   "name": "python",
   "nbconvert_exporter": "python",
   "pygments_lexer": "ipython3",
   "version": "3.10.12"
  },
  "orig_nbformat": 4
 },
 "nbformat": 4,
 "nbformat_minor": 2
}
