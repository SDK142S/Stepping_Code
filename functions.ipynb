{
 "cells": [
  {
   "cell_type": "code",
   "execution_count": 24,
   "metadata": {},
   "outputs": [
    {
     "name": "stdout",
     "output_type": "stream",
     "text": [
      "14\n",
      "you got s not a integer\n"
     ]
    },
    {
     "data": {
      "text/plain": [
       "2"
      ]
     },
     "execution_count": 24,
     "metadata": {},
     "output_type": "execute_result"
    }
   ],
   "source": [
    "\"\"\" \n",
    "Write a function called add_all_nums which takes arbitrary number of arguments and sums all the arguments. Check if all the list items are number types. If not do give a reasonable feedback.\n",
    " \"\"\"\n",
    "\n",
    "\n",
    "def sums(*args):\n",
    "    sum=0\n",
    "    for arg in args:\n",
    "        if type(arg)== int:\n",
    "            sum+=arg\n",
    "        else:\n",
    "            print(f'you got {arg} not a integer')\n",
    "            break\n",
    "    return(sum)\n",
    "        \n",
    "a = sums(2,3,4,5)\n",
    "print(a)\n",
    "sums(2,'s',3)\n",
    "\n",
    "    "
   ]
  },
  {
   "cell_type": "code",
   "execution_count": 40,
   "metadata": {},
   "outputs": [
    {
     "name": "stdout",
     "output_type": "stream",
     "text": [
      "original list :  [3, 4, 2, 5, 1]\n",
      "reversed list :  [1, 5, 2, 4, 3]\n",
      "\n",
      "\n",
      "original list :  [3, 4, 2, 5, 1]\n",
      "reversed list :  [1, 5, 2, 4, 3]\n"
     ]
    }
   ],
   "source": [
    "\"\"\" Declare a function named reverse_list. It takes an array as a parameter and it returns the reverse of the array (use loops).\n",
    " \"\"\"\n",
    "def reverse_list(*para):\n",
    "    ar = []\n",
    "    rev =[]\n",
    "    l=0\n",
    "    for par in para:\n",
    "        l=l+1\n",
    "        ar.append(par)\n",
    "    print(\"original list : \",ar)\n",
    "    for i in range(1,l+1):\n",
    "        rev.append(ar[-i])\n",
    "    print(\"reversed list : \",rev)\n",
    "\n",
    "reverse_list(3,4,2,5,1)  \n",
    "\n",
    "\n",
    "\n",
    "\"\"\" OR \"\"\"   \n",
    "\n",
    "\n",
    "def reverse_list1(para):\n",
    "    print(\"\\n\\noriginal list : \",para)\n",
    "    para.reverse()\n",
    "    print(\"reversed list : \",para)\n",
    "\n",
    "reverse_list1([3,4,2,5,1])\n",
    "\n",
    "\n"
   ]
  },
  {
   "cell_type": "code",
   "execution_count": 4,
   "metadata": {},
   "outputs": [
    {
     "name": "stdout",
     "output_type": "stream",
     "text": [
      " The number of evens are 51\n",
      "The number of odds are  50\n"
     ]
    }
   ],
   "source": [
    "\"\"\" Declare a function named evens_and_odds . It takes a positive integer as parameter and it counts number of evens and odds in the number.\n",
    "    print(evens_and_odds(100))\n",
    "    # The number of odds are 50.\n",
    "    # The number of evens are 51 \"\"\"\n",
    "    \n",
    "\n",
    "def evens_and_odds(value):\n",
    "    even,odd=0,0\n",
    "    for i in range(value+1):\n",
    "        if i%2==0:\n",
    "            even=even+1\n",
    "        else:\n",
    "            odd=odd+1\n",
    "    print(\" The number of evens are\",even)\n",
    "    print(\"The number of odds are \",odd)\n",
    "    \n",
    "evens_and_odds(100)\n",
    "\n"
   ]
  },
  {
   "cell_type": "code",
   "execution_count": 7,
   "metadata": {},
   "outputs": [
    {
     "name": "stdout",
     "output_type": "stream",
     "text": [
      "factorial of 0 is 0\n",
      "factorial of 2 is 2\n",
      "factorial of 4 is 24\n",
      "factorial of 10 is 3628800\n"
     ]
    }
   ],
   "source": [
    "\"\"\" Call your function factorial, it takes a whole number as a parameter and it return a factorial of the number\n",
    " \"\"\"\n",
    " \n",
    "def fact(value):\n",
    "    fact = 1\n",
    "    if value!=0:\n",
    "        for i in range(1,value+1):\n",
    "            fact = fact*i\n",
    "        return fact\n",
    "    else:\n",
    "        return 0\n",
    " \n",
    "value = [0,2,4,10] \n",
    "for val in value: \n",
    "    num = fact(val)\n",
    "    print(f\"factorial of {val} is {num}\")"
   ]
  },
  {
   "cell_type": "code",
   "execution_count": 15,
   "metadata": {},
   "outputs": [
    {
     "name": "stdout",
     "output_type": "stream",
     "text": [
      "True\n",
      "True\n",
      "True\n",
      "False\n",
      "False\n"
     ]
    }
   ],
   "source": [
    "\"\"\" Call your function is_empty, it takes a parameter and it checks if it is empty or not\n",
    " \"\"\"\n",
    "def is_empty(param):\n",
    "    # Check if the parameter is None or has a falsy value\n",
    "    return not param\n",
    "\n",
    "# Test cases\n",
    "print(is_empty(None))        # True\n",
    "print(is_empty(\"\"))          # True\n",
    "print(is_empty([]))          # True\n",
    "print(is_empty(\"Hello\"))     # False\n",
    "print(is_empty([1, 2, 3]))   # False\n"
   ]
  },
  {
   "cell_type": "code",
   "execution_count": 14,
   "metadata": {},
   "outputs": [
    {
     "name": "stdout",
     "output_type": "stream",
     "text": [
      "(2, 3, 4, 5, 1, 3, 5, 5, 1, 1, 5, 8)\n",
      "mean:  3.5833333333333335\n",
      "mode:  5\n",
      "meidan:  3.5\n"
     ]
    }
   ],
   "source": [
    "\"\"\" Write different functions which take lists. They should calculate_mean, calculate_median, calculate_mode \"\"\"\n",
    "\n",
    "import statistics\n",
    "\n",
    "def calculate(*par):\n",
    "    print(par)\n",
    "    num = list(par)\n",
    "    mean = statistics.mean(num)\n",
    "    print(\"mean: \",mean)\n",
    "    mode = statistics.mode(num)\n",
    "    print(\"mode: \",mode)\n",
    "    median = statistics.median(num)\n",
    "    print(\"meidan: \",median)\n",
    "    \n",
    "    \n",
    "\n",
    "calculate(2,3,4,5,1,3,5,5,1,1,5,8)"
   ]
  },
  {
   "cell_type": "code",
   "execution_count": 25,
   "metadata": {},
   "outputs": [
    {
     "name": "stdout",
     "output_type": "stream",
     "text": [
      "prime 2\n",
      "prime 3\n",
      "notprime 4\n",
      "prime 5\n",
      "notprime 6\n",
      "prime 7\n",
      "notprime 8\n",
      "notprime 9\n",
      "notprime 10\n",
      "prime 13\n",
      "prime 97\n",
      "prime 83\n",
      "notprime 100\n",
      "prime 997\n",
      "prime 29\n"
     ]
    }
   ],
   "source": [
    "\"\"\" Write a function called is_prime, which checks if a number is prime. \"\"\"\n",
    "\n",
    "def is_prime(*pars):\n",
    "    for par in pars:\n",
    "        flag=0\n",
    "        for i in range(2,int(par/2)+1,1):\n",
    "            if par%i==0:\n",
    "                flag=1\n",
    "        if flag==0:\n",
    "            print(f\"prime\",par)\n",
    "        else:\n",
    "            print(f\"notprime\",par)\n",
    "\n",
    "  \n",
    "is_prime(2,3,4,5,6,7,8,9,10,13,97,83,100,997,29)      "
   ]
  },
  {
   "cell_type": "code",
   "execution_count": 39,
   "metadata": {},
   "outputs": [
    {
     "name": "stdout",
     "output_type": "stream",
     "text": [
      "contains copies of Hello and 2 times exist\n",
      "contains copies of Apple and 2 times exist\n",
      "unique set\n"
     ]
    }
   ],
   "source": [
    "\"\"\" Write a functions which checks if all items are unique in the list. \"\"\"\n",
    "\n",
    "def is_unique(*pars):\n",
    "    for par in pars:\n",
    "        flag=0\n",
    "        for pat in pars:\n",
    "            if par==pat:\n",
    "                flag=flag+1\n",
    "        if flag>=2:\n",
    "            print(f\"contains copies of {par} and {flag} times exist\")\n",
    "            break\n",
    "    if flag==1:\n",
    "        print(\"unique set\")\n",
    "\n",
    "is_unique(\"Hello\",\"Hello\",\"Apple\",\"Orange\",\"Apple\")\n",
    "is_unique(\"Hello\",\"Apple\",\"Orange\",\"Apple\")\n",
    "is_unique(\"Hello\",\"Orange\",\"Apple\")"
   ]
  },
  {
   "cell_type": "code",
   "execution_count": 48,
   "metadata": {},
   "outputs": [
    {
     "name": "stdout",
     "output_type": "stream",
     "text": [
      "      Places   Language\n",
      "0    America    English\n",
      "1    Germany     German\n",
      "2    England    English\n",
      "3  Australia    English\n",
      "4      Italy    Italian\n",
      "5      India      Hindi\n",
      "6     Kerala  Malayalam\n",
      "7         UK    English\n",
      "8    Frances    Italian\n",
      "Language\n",
      "English      4\n",
      "Italian      2\n",
      "German       1\n",
      "Hindi        1\n",
      "Malayalam    1\n",
      "Name: count, dtype: int64\n"
     ]
    }
   ],
   "source": [
    "\"\"\" Go to the data folder and access the countries-data.py file.\n",
    "Create a function called the most_spoken_languages in the world. It should return  most spoken languages in the world in descending order\n",
    " \"\"\"\n",
    "import pandas as pd\n",
    "def most_spoken_languages(path):\n",
    "    data = pd.read_csv(path)\n",
    "    print(data)\n",
    "    df = pd.DataFrame(data)\n",
    "    most_spoken = df[\"Language\"]\n",
    "    most_spoken_language = most_spoken.value_counts()\n",
    "    print(most_spoken_language)\n",
    "    \n",
    "    \n",
    "most_spoken_languages(path=\"text.csv\")\n",
    " "
   ]
  }
 ],
 "metadata": {
  "kernelspec": {
   "display_name": "Python 3",
   "language": "python",
   "name": "python3"
  },
  "language_info": {
   "codemirror_mode": {
    "name": "ipython",
    "version": 3
   },
   "file_extension": ".py",
   "mimetype": "text/x-python",
   "name": "python",
   "nbconvert_exporter": "python",
   "pygments_lexer": "ipython3",
   "version": "3.10.12"
  },
  "orig_nbformat": 4
 },
 "nbformat": 4,
 "nbformat_minor": 2
}
