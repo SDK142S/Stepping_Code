{
 "cells": [
  {
   "cell_type": "code",
   "execution_count": 2,
   "metadata": {},
   "outputs": [
    {
     "name": "stderr",
     "output_type": "stream",
     "text": [
      "[nltk_data] Downloading package treebank to /home/seetha/nltk_data...\n",
      "[nltk_data]   Package treebank is already up-to-date!\n",
      "[nltk_data] Downloading package punkt to /home/seetha/nltk_data...\n",
      "[nltk_data]   Package punkt is already up-to-date!\n",
      "[nltk_data] Downloading package universal_tagset to\n",
      "[nltk_data]     /home/seetha/nltk_data...\n",
      "[nltk_data]   Package universal_tagset is already up-to-date!\n",
      "/home/seetha/.local/lib/python3.10/site-packages/nltk/tag/hmm.py:335: RuntimeWarning: overflow encountered in cast\n",
      "  O[i, k] = self._output_logprob(si, self._symbols[k])\n"
     ]
    },
    {
     "name": "stdout",
     "output_type": "stream",
     "text": [
      "[('How', 'ADV'), ('are', 'VERB'), ('you', 'PRON'), ('doing', 'VERB')]\n"
     ]
    }
   ],
   "source": [
    "\"\"\" Declare a function add_two_numbers. It takes two parameters and it returns a sum.\n",
    "Area of a circle is calculated as follows: area = π x r x r. Write a function that calculates area_of_circle.\n",
    "Write a function called add_all_nums which takes arbitrary number of arguments and sums all the arguments. Check if all the list items are number types. If not do give a reasonable feedback.\n",
    "Temperature in °C can be converted to °F using this formula: °F = (°C x 9/5) + 32. Write a function which converts °C to °F, convert_celsius_to-fahrenheit.\n",
    "Write a function called check-season, it takes a month parameter and returns the season: Autumn, Winter, Spring or Summer.\n",
    "Write a function called calculate_slope which return the slope of a linear equation \"\"\"\n",
    "\n",
    "\n",
    "\n",
    "    "
   ]
  }
 ],
 "metadata": {
  "kernelspec": {
   "display_name": "Python 3",
   "language": "python",
   "name": "python3"
  },
  "language_info": {
   "codemirror_mode": {
    "name": "ipython",
    "version": 3
   },
   "file_extension": ".py",
   "mimetype": "text/x-python",
   "name": "python",
   "nbconvert_exporter": "python",
   "pygments_lexer": "ipython3",
   "version": "3.10.12"
  },
  "orig_nbformat": 4
 },
 "nbformat": 4,
 "nbformat_minor": 2
}
