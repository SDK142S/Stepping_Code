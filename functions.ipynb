{
 "cells": [
  {
   "cell_type": "code",
   "execution_count": 24,
   "metadata": {},
   "outputs": [
    {
     "name": "stdout",
     "output_type": "stream",
     "text": [
      "14\n",
      "you got s not a integer\n"
     ]
    },
    {
     "data": {
      "text/plain": [
       "2"
      ]
     },
     "execution_count": 24,
     "metadata": {},
     "output_type": "execute_result"
    }
   ],
   "source": [
    "\"\"\" \n",
    "Write a function called add_all_nums which takes arbitrary number of arguments and sums all the arguments. Check if all the list items are number types. If not do give a reasonable feedback.\n",
    " \"\"\"\n",
    "\n",
    "\n",
    "def sums(*args):\n",
    "    sum=0\n",
    "    for arg in args:\n",
    "        if type(arg)== int:\n",
    "            sum+=arg\n",
    "        else:\n",
    "            print(f'you got {arg} not a integer')\n",
    "            break\n",
    "    return(sum)\n",
    "        \n",
    "a = sums(2,3,4,5)\n",
    "print(a)\n",
    "sums(2,'s',3)\n",
    "\n",
    "    "
   ]
  },
  {
   "cell_type": "code",
   "execution_count": 25,
   "metadata": {},
   "outputs": [
    {
     "name": "stdout",
     "output_type": "stream",
     "text": [
      "original list :  [3, 4, 2, 5, 1]\n",
      "reversed list :  [1, 5, 2, 4, 3]\n"
     ]
    }
   ],
   "source": [
    "\"\"\" Declare a function named reverse_list. It takes an array as a parameter and it returns the reverse of the array (use loops).\n",
    " \"\"\"\n",
    "def reverse_list(*para):\n",
    "    ar = []\n",
    "    rev =[]\n",
    "    l=0\n",
    "    for par in para:\n",
    "        l=l+1\n",
    "        ar.append(par)\n",
    "    print(\"original list : \",ar)\n",
    "    for i in range(l-1,-1,-1):\n",
    "        rev.append(ar[i])\n",
    "    print(\"reversed list : \",rev)\n",
    "\n",
    "reverse_list(3,4,2,5,1)     \n",
    " "
   ]
  }
 ],
 "metadata": {
  "kernelspec": {
   "display_name": "Python 3",
   "language": "python",
   "name": "python3"
  },
  "language_info": {
   "codemirror_mode": {
    "name": "ipython",
    "version": 3
   },
   "file_extension": ".py",
   "mimetype": "text/x-python",
   "name": "python",
   "nbconvert_exporter": "python",
   "pygments_lexer": "ipython3",
   "version": "3.10.12"
  },
  "orig_nbformat": 4
 },
 "nbformat": 4,
 "nbformat_minor": 2
}
