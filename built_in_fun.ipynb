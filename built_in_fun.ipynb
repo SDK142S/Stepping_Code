{
 "cells": [
  {
   "cell_type": "code",
   "execution_count": null,
   "metadata": {},
   "outputs": [],
   "source": [
    "\"\"\" Check the data type of all your variables using type() built-in function\n",
    "Using the len() built-in function, find the length of your first name\n",
    "Compare the length of your first name and your last name\n",
    "Declare 5 as num_one and 4 as num_two\n",
    "Add num_one and num_two and assign the value to a variable total\n",
    "Subtract num_two from num_one and assign the value to a variable diff\n",
    "Multiply num_two and num_one and assign the value to a variable product\n",
    "Divide num_one by num_two and assign the value to a variable division\n",
    "Use modulus division to find num_two divided by num_one and assign the value to a variable remainder\n",
    "Calculate num_one to the power of num_two and assign the value to a variable exp\n",
    "Find floor division of num_one by num_two and assign the value to a variable floor_division\n",
    "The radius of a circle is 30 meters.\n",
    "Calculate the area of a circle and assign the value to a variable name of area_of_circle\n",
    "Calculate the circumference of a circle and assign the value to a variable name of circum_of_circle\n",
    "Take radius as user input and calculate the area.\n",
    "Use the built-in input function to get first name, last name, country and age from a user and store the value to their corresponding variable names\n",
    "Run help('keywords') in Python shell or in your file to check for the Python reserved words or keywords \"\"\""
   ]
  },
  {
   "cell_type": "code",
   "execution_count": 3,
   "metadata": {},
   "outputs": [
    {
     "name": "stdout",
     "output_type": "stream",
     "text": [
      "9 \n",
      " 1 \n",
      " 20 \n",
      " 4 \n",
      " 1024 \n",
      " 0 \n",
      "\n"
     ]
    }
   ],
   "source": [
    "num_one,num_two = 5,4\n",
    "total = num_two + num_one\n",
    "diff = num_one - num_two\n",
    "mul = num_two * num_one\n",
    "div = num_one / num_two\n",
    "mod = num_two % num_one\n",
    "exp = num_two**num_one\n",
    "floor = num_two//num_one\n",
    "print(total,\"\\n\",diff,\"\\n\",mul,\"\\n\",mod, \"\\n\",exp,\"\\n\",floor,\"\\n\")\n",
    " \n"
   ]
  },
  {
   "cell_type": "code",
   "execution_count": 2,
   "metadata": {},
   "outputs": [
    {
     "name": "stdout",
     "output_type": "stream",
     "text": [
      "5\n",
      "True\n"
     ]
    }
   ],
   "source": [
    "name = \"Alpha\"\n",
    "print(len(name))\n",
    "s_name = \"Beta\"\n",
    "print(len(name)>len(s_name))"
   ]
  }
 ],
 "metadata": {
  "kernelspec": {
   "display_name": "Python 3",
   "language": "python",
   "name": "python3"
  },
  "language_info": {
   "codemirror_mode": {
    "name": "ipython",
    "version": 3
   },
   "file_extension": ".py",
   "mimetype": "text/x-python",
   "name": "python",
   "nbconvert_exporter": "python",
   "pygments_lexer": "ipython3",
   "version": "3.10.12"
  },
  "orig_nbformat": 4
 },
 "nbformat": 4,
 "nbformat_minor": 2
}
