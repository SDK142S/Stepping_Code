{
 "cells": [
  {
   "cell_type": "code",
   "execution_count": 3,
   "metadata": {},
   "outputs": [
    {
     "data": {
      "text/plain": [
       "\" Exercises: Level 1\\n\\nWrite a loop that makes seven calls to print(), so we get on the output the following triangle:\\n\\n  #\\n  ##\\n  ###\\n  ####\\n  #####\\n  ######\\n  #######\\nUse nested loops to create the following:\\n\\n# # # # # # # #\\n# # # # # # # #\\n# # # # # # # #\\n# # # # # # # #\\n# # # # # # # #\\n# # # # # # # #\\n# # # # # # # #\\n# # # # # # # #\\nPrint the following pattern:\\n\\n0 x 0 = 0\\n1 x 1 = 1\\n2 x 2 = 4\\n3 x 3 = 9\\n4 x 4 = 16\\n5 x 5 = 25\\n6 x 6 = 36\\n7 x 7 = 49\\n8 x 8 = 64\\n9 x 9 = 81\\n10 x 10 = 100\\nIterate through the list, ['Python', 'Numpy','Pandas','Django', 'Flask'] using a for loop and print out the items.\\n\\nUse for loop to iterate from 0 to 100 and print only even numbers\\n\\nUse for loop to iterate from 0 to 100 and print only odd numbers\\n\\n \""
      ]
     },
     "execution_count": 3,
     "metadata": {},
     "output_type": "execute_result"
    }
   ],
   "source": [
    "\"\"\" Exercises: Level 1\n",
    "\n",
    "Write a loop that makes seven calls to print(), so we get on the output the following triangle:\n",
    "\n",
    "  #\n",
    "  ##\n",
    "  ###\n",
    "  ####\n",
    "  #####\n",
    "  ######\n",
    "  #######\n",
    "Use nested loops to create the following:\n",
    "\n",
    "# # # # # # # #\n",
    "# # # # # # # #\n",
    "# # # # # # # #\n",
    "# # # # # # # #\n",
    "# # # # # # # #\n",
    "# # # # # # # #\n",
    "# # # # # # # #\n",
    "# # # # # # # #\n",
    "Print the following pattern:\n",
    "\n",
    "0 x 0 = 0\n",
    "1 x 1 = 1\n",
    "2 x 2 = 4\n",
    "3 x 3 = 9\n",
    "4 x 4 = 16\n",
    "5 x 5 = 25\n",
    "6 x 6 = 36\n",
    "7 x 7 = 49\n",
    "8 x 8 = 64\n",
    "9 x 9 = 81\n",
    "10 x 10 = 100\n",
    "\n",
    "\n",
    " \"\"\"\n",
    " \n",
    " \n",
    " "
   ]
  },
  {
   "cell_type": "code",
   "execution_count": 8,
   "metadata": {},
   "outputs": [
    {
     "name": "stdout",
     "output_type": "stream",
     "text": [
      "1  *  1  =  1\n",
      "2  *  2  =  4\n",
      "3  *  3  =  9\n",
      "4  *  4  =  16\n",
      "5  *  5  =  25\n",
      "6  *  6  =  36\n",
      "7  *  7  =  49\n",
      "8  *  8  =  64\n",
      "9  *  9  =  81\n",
      "10  *  10  =  100\n"
     ]
    }
   ],
   "source": [
    "for i in range(1,11):\n",
    "    print(i ,' * ',i,' = ',i*i)"
   ]
  },
  {
   "cell_type": "code",
   "execution_count": 6,
   "metadata": {},
   "outputs": [
    {
     "name": "stdout",
     "output_type": "stream",
     "text": [
      "# \n",
      "# # \n",
      "# # # \n",
      "# # # # \n",
      "# # # # # \n",
      "# # # # # # \n",
      "# # # # # # # \n"
     ]
    }
   ],
   "source": [
    "for i in range(1,8,1):\n",
    "    print('# '*i)"
   ]
  },
  {
   "cell_type": "code",
   "execution_count": 7,
   "metadata": {},
   "outputs": [
    {
     "name": "stdout",
     "output_type": "stream",
     "text": [
      "# # # # # # # # \n",
      "# # # # # # # # \n",
      "# # # # # # # # \n",
      "# # # # # # # # \n",
      "# # # # # # # # \n",
      "# # # # # # # # \n",
      "# # # # # # # # \n",
      "# # # # # # # # \n"
     ]
    }
   ],
   "source": [
    "for i in range(1,9,1):\n",
    "    print('# '*8)"
   ]
  },
  {
   "cell_type": "code",
   "execution_count": 9,
   "metadata": {},
   "outputs": [
    {
     "name": "stdout",
     "output_type": "stream",
     "text": [
      "Python\n",
      "Numpy\n",
      "Pandas\n",
      "Django\n",
      "Flask\n"
     ]
    }
   ],
   "source": [
    "\"\"\" Iterate through the list, ['Python', 'Numpy','Pandas','Django', 'Flask'] using a for loop and print out the items.\n",
    "\n",
    "\"\"\" \n",
    "\n",
    "lst = ['Python', 'Numpy','Pandas','Django', 'Flask']\n",
    "for item in lst:\n",
    "    print(item)\n",
    "\n"
   ]
  },
  {
   "cell_type": "code",
   "execution_count": 12,
   "metadata": {},
   "outputs": [
    {
     "name": "stdout",
     "output_type": "stream",
     "text": [
      "# # # # # # # \n",
      "#           #\n",
      "#           #\n",
      "#           #\n",
      "#           #\n",
      "# # # # # # # \n"
     ]
    }
   ],
   "source": [
    "for i in range(1,7):\n",
    "    if i ==1 or i ==6:\n",
    "        print(\"# \"*7)\n",
    "    else:\n",
    "        print(\"#           #\")\n",
    "\n"
   ]
  },
  {
   "cell_type": "code",
   "execution_count": 37,
   "metadata": {},
   "outputs": [
    {
     "name": "stdout",
     "output_type": "stream",
     "text": [
      "        1 \n",
      "      1 2 3 \n",
      "    1 2 3 4 5 \n",
      "  1 2 3 4 5 6 7 \n",
      "1 2 3 4 5 6 7 8 9 \n"
     ]
    }
   ],
   "source": [
    "for i in range(1,6):\n",
    "    print('  ' * (6 - i - 1), end='')\n",
    "    for j in range(1,2*i):\n",
    "            print(j,end=' ')\n",
    "    print()  "
   ]
  }
 ],
 "metadata": {
  "kernelspec": {
   "display_name": "Python 3",
   "language": "python",
   "name": "python3"
  },
  "language_info": {
   "codemirror_mode": {
    "name": "ipython",
    "version": 3
   },
   "file_extension": ".py",
   "mimetype": "text/x-python",
   "name": "python",
   "nbconvert_exporter": "python",
   "pygments_lexer": "ipython3",
   "version": "3.10.12"
  },
  "orig_nbformat": 4
 },
 "nbformat": 4,
 "nbformat_minor": 2
}
