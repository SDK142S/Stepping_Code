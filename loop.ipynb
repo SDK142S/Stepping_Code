{
 "cells": [
  {
   "cell_type": "code",
   "execution_count": 3,
   "metadata": {},
   "outputs": [
    {
     "data": {
      "text/plain": [
       "\" Exercises: Level 1\\n\\nWrite a loop that makes seven calls to print(), so we get on the output the following triangle:\\n\\n  #\\n  ##\\n  ###\\n  ####\\n  #####\\n  ######\\n  #######\\nUse nested loops to create the following:\\n\\n# # # # # # # #\\n# # # # # # # #\\n# # # # # # # #\\n# # # # # # # #\\n# # # # # # # #\\n# # # # # # # #\\n# # # # # # # #\\n# # # # # # # #\\nPrint the following pattern:\\n\\n0 x 0 = 0\\n1 x 1 = 1\\n2 x 2 = 4\\n3 x 3 = 9\\n4 x 4 = 16\\n5 x 5 = 25\\n6 x 6 = 36\\n7 x 7 = 49\\n8 x 8 = 64\\n9 x 9 = 81\\n10 x 10 = 100\\nIterate through the list, ['Python', 'Numpy','Pandas','Django', 'Flask'] using a for loop and print out the items.\\n\\nUse for loop to iterate from 0 to 100 and print only even numbers\\n\\nUse for loop to iterate from 0 to 100 and print only odd numbers\\n\\n \""
      ]
     },
     "execution_count": 3,
     "metadata": {},
     "output_type": "execute_result"
    }
   ],
   "source": [
    "\"\"\" Exercises: Level 1\n",
    "\n",
    "Write a loop that makes seven calls to print(), so we get on the output the following triangle:\n",
    "\n",
    "  #\n",
    "  ##\n",
    "  ###\n",
    "  ####\n",
    "  #####\n",
    "  ######\n",
    "  #######\n",
    "Use nested loops to create the following:\n",
    "\n",
    "# # # # # # # #\n",
    "# # # # # # # #\n",
    "# # # # # # # #\n",
    "# # # # # # # #\n",
    "# # # # # # # #\n",
    "# # # # # # # #\n",
    "# # # # # # # #\n",
    "# # # # # # # #\n",
    "Print the following pattern:\n",
    "\n",
    "0 x 0 = 0\n",
    "1 x 1 = 1\n",
    "2 x 2 = 4\n",
    "3 x 3 = 9\n",
    "4 x 4 = 16\n",
    "5 x 5 = 25\n",
    "6 x 6 = 36\n",
    "7 x 7 = 49\n",
    "8 x 8 = 64\n",
    "9 x 9 = 81\n",
    "10 x 10 = 100\n",
    "Iterate through the list, ['Python', 'Numpy','Pandas','Django', 'Flask'] using a for loop and print out the items.\n",
    "\n",
    "Use for loop to iterate from 0 to 100 and print only even numbers\n",
    "\n",
    "Use for loop to iterate from 0 to 100 and print only odd numbers\n",
    "\n",
    " \"\"\"\n",
    " \n",
    " \n",
    " "
   ]
  },
  {
   "cell_type": "code",
   "execution_count": 4,
   "metadata": {},
   "outputs": [
    {
     "name": "stdout",
     "output_type": "stream",
     "text": [
      "#\n",
      "##\n",
      "###\n",
      "####\n",
      "#####\n",
      "######\n",
      "#######\n"
     ]
    }
   ],
   "source": [
    "for i in range(1,8,1):\n",
    "    print('#'*i)"
   ]
  },
  {
   "cell_type": "code",
   "execution_count": null,
   "metadata": {},
   "outputs": [],
   "source": []
  }
 ],
 "metadata": {
  "kernelspec": {
   "display_name": "Python 3",
   "language": "python",
   "name": "python3"
  },
  "language_info": {
   "codemirror_mode": {
    "name": "ipython",
    "version": 3
   },
   "file_extension": ".py",
   "mimetype": "text/x-python",
   "name": "python",
   "nbconvert_exporter": "python",
   "pygments_lexer": "ipython3",
   "version": "3.10.12"
  },
  "orig_nbformat": 4
 },
 "nbformat": 4,
 "nbformat_minor": 2
}
