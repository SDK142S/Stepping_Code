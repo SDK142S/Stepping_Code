{
 "cells": [
  {
   "cell_type": "code",
   "execution_count": 3,
   "metadata": {},
   "outputs": [
    {
     "name": "stdout",
     "output_type": "stream",
     "text": [
      "     NAME  CLASS  MARK\n",
      "0     Aeo      1    20\n",
      "1    June      1    25\n",
      "2    Emit      1    30\n",
      "3   Alley      2    25\n",
      "4  Andrew      2    28\n"
     ]
    }
   ],
   "source": [
    "#write a code to read a csv file and show\n",
    "\n",
    "import pandas as pd\n",
    "path = 'text1.csv'\n",
    "df = pd.read_csv(path)\n",
    "print(df)"
   ]
  },
  {
   "cell_type": "code",
   "execution_count": 12,
   "metadata": {},
   "outputs": [
    {
     "name": "stdout",
     "output_type": "stream",
     "text": [
      "['June', 'Emit', 'Alley', 'Andrew']\n"
     ]
    }
   ],
   "source": [
    "names = [name for name,mark in zip(df['NAME'],df['MARK']) if mark > 20]\n",
    "print(names)"
   ]
  },
  {
   "cell_type": "code",
   "execution_count": 4,
   "metadata": {},
   "outputs": [
    {
     "name": "stdout",
     "output_type": "stream",
     "text": [
      "[('June', 1), ('Emit', 1), ('Alley', 2), ('Andrew', 2)]\n"
     ]
    }
   ],
   "source": [
    "names = [(name,cl) for name,cl,mark in zip(df['NAME'],df['CLASS'],df['MARK']) if mark > 20]\n",
    "print(names)"
   ]
  },
  {
   "cell_type": "code",
   "execution_count": null,
   "metadata": {},
   "outputs": [],
   "source": [
    "# file management "
   ]
  }
 ],
 "metadata": {
  "kernelspec": {
   "display_name": "Python 3",
   "language": "python",
   "name": "python3"
  },
  "language_info": {
   "codemirror_mode": {
    "name": "ipython",
    "version": 3
   },
   "file_extension": ".py",
   "mimetype": "text/x-python",
   "name": "python",
   "nbconvert_exporter": "python",
   "pygments_lexer": "ipython3",
   "version": "3.10.12"
  },
  "orig_nbformat": 4
 },
 "nbformat": 4,
 "nbformat_minor": 2
}
