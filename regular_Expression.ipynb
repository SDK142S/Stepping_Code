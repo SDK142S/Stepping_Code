{
 "cells": [
  {
   "cell_type": "code",
   "execution_count": 1,
   "metadata": {},
   "outputs": [
    {
     "name": "stdout",
     "output_type": "stream",
     "text": [
      "<re.Match object; span=(100, 105), match='first'>\n",
      "(100, 105)\n",
      "100 105\n",
      "first\n"
     ]
    }
   ],
   "source": [
    "\"\"\" re.match(): searches only in the beginning of the first line of the string and returns matched objects if found, else returns None.\n",
    "re.search: Returns a match object if there is one anywhere in the string, including multiline strings.\n",
    "re.findall: Returns a list containing all matches\n",
    "re.split: Takes a string, splits it at the match points, returns a list\n",
    "re.sub: Replaces one or many matches within a string \"\"\"\n",
    "import re\n",
    "\n",
    "txt = '''Python is the most beautiful language that a human being has ever created.\n",
    "I recommend python for a first programming language'''\n",
    "\n",
    "# It returns an object with span and match\n",
    "match = re.search('first', txt, re.I)\n",
    "print(match)  # <re.Match object; span=(100, 105), match='first'>\n",
    "# We can get the starting and ending position of the match as tuple using span\n",
    "span = match.span()\n",
    "print(span)     # (100, 105)\n",
    "# Lets find the start and stop position from the span\n",
    "start, end = span\n",
    "print(start, end)  # 100 105\n",
    "substring = txt[start:end]\n",
    "print(substring)       "
   ]
  },
  {
   "cell_type": "code",
   "execution_count": 10,
   "metadata": {},
   "outputs": [
    {
     "name": "stdout",
     "output_type": "stream",
     "text": [
      "Python\n",
      "1\n",
      "is\n",
      "1\n",
      "the\n",
      "1\n",
      "most\n",
      "1\n",
      "beautiful\n",
      "1\n",
      "language\n",
      "1\n",
      "that\n",
      "1\n",
      "a\n",
      "1\n",
      "human\n",
      "1\n",
      "being\n",
      "1\n",
      "has\n",
      "1\n",
      "ever\n",
      "1\n",
      "created.I\n",
      "1\n",
      "recommend\n",
      "1\n",
      "python\n",
      "1\n",
      "for\n",
      "1\n",
      "a\n",
      "1\n",
      "first\n",
      "1\n",
      "programming\n",
      "1\n",
      "language\n",
      "1\n",
      "0\n"
     ]
    }
   ],
   "source": [
    "txt = \"Python is the most beautiful language that a human being has ever created.I recommend python for a first programming language\"\n",
    "for word in txt.split():\n",
    "    print(word)\n"
   ]
  }
 ],
 "metadata": {
  "kernelspec": {
   "display_name": "Python 3",
   "language": "python",
   "name": "python3"
  },
  "language_info": {
   "codemirror_mode": {
    "name": "ipython",
    "version": 3
   },
   "file_extension": ".py",
   "mimetype": "text/x-python",
   "name": "python",
   "nbconvert_exporter": "python",
   "pygments_lexer": "ipython3",
   "version": "3.10.12"
  },
  "orig_nbformat": 4
 },
 "nbformat": 4,
 "nbformat_minor": 2
}
