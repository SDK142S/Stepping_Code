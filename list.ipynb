{
 "cells": [
  {
   "cell_type": "code",
   "execution_count": null,
   "metadata": {},
   "outputs": [],
   "source": [
    "\"\"\" Exercises: Level 1\n",
    "Declare an empty list\n",
    "\n",
    "Declare a list with more than 5 items\n",
    "\n",
    "Find the length of your list\n",
    "\n",
    "Get the first item, the middle item and the last item of the list\n",
    "\n",
    "Declare a list called mixed_data_types, put your(name, age, height, marital status, address)\n",
    "\n",
    "Declare a list variable named it_companies and assign initial values Facebook, Google, Microsoft, Apple, IBM, Oracle and Amazon.\n",
    "\n",
    "Print the list using print()\n",
    "\n",
    "Print the number of companies in the list\n",
    "\n",
    "Print the first, middle and last company\n",
    "\n",
    "Print the list after modifying one of the companies\n",
    "\n",
    "Add an IT company to it_companies\n",
    "\n",
    "\n"
   ]
  },
  {
   "cell_type": "code",
   "execution_count": 3,
   "metadata": {},
   "outputs": [
    {
     "name": "stdout",
     "output_type": "stream",
     "text": [
      "[]\n",
      "['apple', 'orange', 'banana', 'grape', 'cherry']\n",
      "['apple', 'banana', 'cherry']\n"
     ]
    }
   ],
   "source": [
    "lst = []\n",
    "print(lst)\n",
    "lst1 = ['apple','orange','banana','grape','cherry']\n",
    "print(lst1)\n",
    "print(lst1[::2])"
   ]
  },
  {
   "cell_type": "code",
   "execution_count": 5,
   "metadata": {},
   "outputs": [
    {
     "name": "stdout",
     "output_type": "stream",
     "text": [
      "gauva\n",
      "['apple', 'orange', 'banana', 'grape', 'gauva']\n"
     ]
    }
   ],
   "source": [
    "print(lst1.pop())\n",
    "lst1.append('gauva')\n",
    "print(lst1)\n"
   ]
  },
  {
   "cell_type": "code",
   "execution_count": 36,
   "metadata": {},
   "outputs": [
    {
     "name": "stdout",
     "output_type": "stream",
     "text": [
      "True\n",
      "['FACEBOOK', 'Google', 'Microsoft', 'Apple', 'IBM', 'Oracle', 'Amazon']\n",
      "['Amazon', 'Oracle', 'IBM', 'Apple', 'Microsoft', 'Google', 'FACEBOOK']\n"
     ]
    }
   ],
   "source": [
    "\"\"\" Insert an IT company in the middle of the companies list\n",
    "\n",
    "Change one of the it_companies names to uppercase (IBM excluded!)\n",
    "\n",
    "Join the it_companies with a string '#;  '\n",
    "\n",
    "Check if a certain company exists in the it_companies list.\n",
    "\n",
    "Sort the list using sort() method\n",
    "\n",
    "Reverse the list in descending order using reverse() method\n",
    "\n",
    "Slice out the first 3 companies from the list\n",
    "\n",
    "Slice out the last 3 companies from the list\n",
    "\n",
    "Slice out the middle IT company or companies from the list\n",
    "\n",
    "Remove the first IT company from the list \"\"\"\n",
    "\n",
    "lst2 = ['Facebook','Google', 'Microsoft', 'Apple', 'IBM', 'Oracle','Amazon']\n",
    "lst2.remove('Facebook')\n",
    "lst2.insert(0,'FACEBOOK')\n",
    "lst2\n",
    "print('IBM' in lst2)\n",
    "print(lst2)\n",
    "lst2.reverse()\n",
    "print(lst2)\n"
   ]
  },
  {
   "cell_type": "code",
   "execution_count": 37,
   "metadata": {},
   "outputs": [
    {
     "name": "stdout",
     "output_type": "stream",
     "text": [
      "['Amazon', 'Oracle', 'IBM', 'Microsoft', 'Google', 'FACEBOOK']\n",
      "['Amazon', 'Oracle', 'IBM', 'Microsoft', 'Google', 'FACEBOOK', 'Amazon', 'Oracle', 'Plum', 'IBM', 'Microsoft', 'Google', 'FACEBOOK']\n"
     ]
    }
   ],
   "source": [
    "\"\"\" Remove the middle IT company or companies from the list\n",
    "\n",
    "Remove the last IT company from the list\n",
    "\n",
    "Remove all IT companies from the list\n",
    "\n",
    "Destroy the IT companies list\n",
    "\n",
    "Join the following lists:\n",
    "\n",
    "\"\"\"\n",
    " \n",
    "lst2.remove('Apple')\n",
    "print(lst2)\n",
    "lst3 = lst2.copy()\n",
    "lst2.insert(2,'Plum')\n",
    "lst3 = lst3 + lst2\n",
    "print(lst3)"
   ]
  },
  {
   "cell_type": "code",
   "execution_count": 65,
   "metadata": {},
   "outputs": [
    {
     "name": "stdout",
     "output_type": "stream",
     "text": [
      "[19, 19, 20, 22, 24, 24, 24, 25, 25, 26]\n",
      "19  26\n",
      "[19, 19, 20, 22, 24, 24, 24, 25, 25, 26, 19]\n",
      "24\n",
      "22.454545454545453\n",
      "['China', 'Russia']   ['USA', 'Finland', 'Sweden', 'Norway', 'Denmark']\n"
     ]
    }
   ],
   "source": [
    "\"\"\" Exercises: Level 2\n",
    "The following is a list of 10 students ages:\n",
    "ages = [19, 22, 19, 24, 20, 25, 26, 24, 25, 24]\n",
    "Sort the list and find the min and max age\n",
    "Add the min age and the max age again to the list\n",
    "Find the median age (one middle item or two middle items divided by two)\n",
    "Find the average age (sum of all items divided by their number )\n",
    "Find the range of the ages (max minus min)\n",
    "Compare the value of (min - average) and (max - average), use abs() method\n",
    "Find the middle country(ies) in the countries list\n",
    "Divide the countries list into two equal lists if it is even if not one more country for the first half.\n",
    "['China', 'Russia', 'USA', 'Finland', 'Sweden', 'Norway', 'Denmark']. Unpack the first three countries and the rest as scandic countries. \"\"\" \n",
    "\n",
    "ages = [19, 22, 19, 24, 20, 25, 26, 24, 25, 24]\n",
    "ages.sort()\n",
    "print(ages)\n",
    "print(min(ages) ,'',max(ages))\n",
    "ages.append(min(ages))\n",
    "print(ages)\n",
    "print(ages[int(len(ages)/2)])\n",
    "print((sum(ages))/(len(ages)))\n",
    "\n",
    "con = ['China', 'Russia', 'USA', 'Finland', 'Sweden', 'Norway', 'Denmark']\n",
    "con1 = con[0:2]\n",
    "con2 = con[2:]\n",
    "print(con1,\" \",con2)\n",
    "\n",
    "\n",
    "\n"
   ]
  }
 ],
 "metadata": {
  "kernelspec": {
   "display_name": "Python 3",
   "language": "python",
   "name": "python3"
  },
  "language_info": {
   "codemirror_mode": {
    "name": "ipython",
    "version": 3
   },
   "file_extension": ".py",
   "mimetype": "text/x-python",
   "name": "python",
   "nbconvert_exporter": "python",
   "pygments_lexer": "ipython3",
   "version": "3.10.12"
  },
  "orig_nbformat": 4
 },
 "nbformat": 4,
 "nbformat_minor": 2
}
