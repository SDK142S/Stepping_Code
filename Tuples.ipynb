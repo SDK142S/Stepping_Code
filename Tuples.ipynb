{
 "cells": [
  {
   "cell_type": "code",
   "execution_count": 6,
   "metadata": {},
   "outputs": [
    {
     "name": "stdout",
     "output_type": "stream",
     "text": [
      "('A', 'B', 'C', 'E', 'D', 'F')\n",
      "6\n",
      "('A', 'B', 'C', 'E', 'D', 'F', 'father', 'mother')\n"
     ]
    }
   ],
   "source": [
    "\"\"\"\n",
    "Exercises: Level 1\n",
    "Create an empty tuple\n",
    "Create a tuple containing names of your sisters and your brothers (imaginary siblings are fine)\n",
    "Join brothers and sisters tuples and assign it to siblings\n",
    "How many siblings do you have?\n",
    "Modify the siblings tuple and add the name of your father and mother and assign it to family_members\n",
    "\n",
    "\"\"\"\n",
    "siblings = ()\n",
    "sis = ('A','B','C')\n",
    "bro = ('E','D','F')\n",
    "siblings = sis + bro\n",
    "print(siblings)\n",
    "print(len(siblings))\n",
    "family_members = ('father','mother')\n",
    "family_members = siblings + family_members\n",
    "print(family_members)"
   ]
  },
  {
   "cell_type": "code",
   "execution_count": null,
   "metadata": {},
   "outputs": [],
   "source": []
  },
  {
   "cell_type": "code",
   "execution_count": 8,
   "metadata": {},
   "outputs": [
    {
     "name": "stdout",
     "output_type": "stream",
     "text": [
      "False\n",
      "True\n"
     ]
    }
   ],
   "source": [
    "\"\"\" Exercises: Level 2\n",
    "\n",
    "Check if an item exists in tuple:\n",
    "Check if 'Estonia' is a nordic country\n",
    "\n",
    "Check if 'Iceland' is a nordic country\n",
    "\n",
    "nordic_countries = ('Denmark', 'Finland','Iceland', 'Norway', 'Sweden') \"\"\"\n",
    "\n",
    "nordic_countries = ('Denmark', 'Finland','Iceland', 'Norway', 'Sweden')\n",
    "print('Estonia' in nordic_countries)\n",
    "print('Iceland' in nordic_countries)\n",
    "\n",
    "\n",
    "\n",
    " "
   ]
  }
 ],
 "metadata": {
  "kernelspec": {
   "display_name": "Python 3",
   "language": "python",
   "name": "python3"
  },
  "language_info": {
   "codemirror_mode": {
    "name": "ipython",
    "version": 3
   },
   "file_extension": ".py",
   "mimetype": "text/x-python",
   "name": "python",
   "nbconvert_exporter": "python",
   "pygments_lexer": "ipython3",
   "version": "3.10.12"
  },
  "orig_nbformat": 4
 },
 "nbformat": 4,
 "nbformat_minor": 2
}
