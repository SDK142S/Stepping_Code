{
 "cells": [
  {
   "cell_type": "code",
   "execution_count": 1,
   "metadata": {},
   "outputs": [
    {
     "name": "stdout",
     "output_type": "stream",
     "text": [
      "count of vowels:  7\n"
     ]
    }
   ],
   "source": [
    "\"\"\"  Write a Python program to count the number of vowels in a string \"\"\"\n",
    "\n",
    "string = \"Hello, How are you?\"\n",
    "count = 0\n",
    "for word in string:\n",
    "    if word in [\"a\",\"e\",\"i\",\"o\",\"u\"]:\n",
    "        count = count+1\n",
    "print(\"count of vowels: \",count)\n",
    "        "
   ]
  }
 ],
 "metadata": {
  "kernelspec": {
   "display_name": "Python 3",
   "language": "python",
   "name": "python3"
  },
  "language_info": {
   "codemirror_mode": {
    "name": "ipython",
    "version": 3
   },
   "file_extension": ".py",
   "mimetype": "text/x-python",
   "name": "python",
   "nbconvert_exporter": "python",
   "pygments_lexer": "ipython3",
   "version": "3.10.12"
  },
  "orig_nbformat": 4
 },
 "nbformat": 4,
 "nbformat_minor": 2
}
