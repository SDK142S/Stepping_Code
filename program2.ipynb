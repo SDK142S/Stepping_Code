{
 "cells": [
  {
   "cell_type": "code",
   "execution_count": 1,
   "metadata": {},
   "outputs": [
    {
     "name": "stdout",
     "output_type": "stream",
     "text": [
      "{4, 5}\n"
     ]
    }
   ],
   "source": [
    "#Write a Python program to find the intersection of two sets\n",
    "set1 = {1,2,3,4,5}\n",
    "set2 = {4,5,6,7,8}\n",
    "set3 = set1.intersection(set2)\n",
    "print(set3)"
   ]
  },
  {
   "cell_type": "code",
   "execution_count": 2,
   "metadata": {},
   "outputs": [
    {
     "name": "stdout",
     "output_type": "stream",
     "text": [
      "[1, 2, 3, 4, 5, 6, 7, 8]\n"
     ]
    }
   ],
   "source": [
    "#Write a Python code to implement a function to flatten a nested list\n",
    "join = []\n",
    "\n",
    "def flatten(value):\n",
    "    for i in value:\n",
    "        if type(i) == list:\n",
    "            flatten(i)\n",
    "        else:\n",
    "            join.append(i)\n",
    "    return join\n",
    "            \n",
    "\n",
    "\n",
    "v = flatten([1,2,3,[4,5],[6,7],8])\n",
    "print(v)\n"
   ]
  },
  {
   "cell_type": "code",
   "execution_count": 6,
   "metadata": {},
   "outputs": [
    {
     "name": "stdout",
     "output_type": "stream",
     "text": [
      "1.7320508075688772\n",
      "The number is not a perfect square\n"
     ]
    }
   ],
   "source": [
    "#Write a Python code to check if a number is a perfect square\n",
    "import math\n",
    "\n",
    "\n",
    "num = int(input(\"Enter a number: \"))\n",
    "root = math.sqrt(num)\n",
    "print(root)\n",
    "if int(root) ** 2 == num:\n",
    "    print(\"The number is a perfect square\")\n",
    "else:\n",
    "    print(\"The number is not a perfect square\")"
   ]
  }
 ],
 "metadata": {
  "kernelspec": {
   "display_name": "Python 3",
   "language": "python",
   "name": "python3"
  },
  "language_info": {
   "codemirror_mode": {
    "name": "ipython",
    "version": 3
   },
   "file_extension": ".py",
   "mimetype": "text/x-python",
   "name": "python",
   "nbconvert_exporter": "python",
   "pygments_lexer": "ipython3",
   "version": "3.10.12"
  },
  "orig_nbformat": 4
 },
 "nbformat": 4,
 "nbformat_minor": 2
}
