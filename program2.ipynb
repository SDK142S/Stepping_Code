{
 "cells": [
  {
   "cell_type": "code",
   "execution_count": 1,
   "metadata": {},
   "outputs": [
    {
     "name": "stdout",
     "output_type": "stream",
     "text": [
      "{4, 5}\n"
     ]
    }
   ],
   "source": [
    "#Write a Python program to find the intersection of two sets\n",
    "set1 = {1,2,3,4,5}\n",
    "set2 = {4,5,6,7,8}\n",
    "set3 = set1.intersection(set2)\n",
    "print(set3)"
   ]
  },
  {
   "cell_type": "code",
   "execution_count": 2,
   "metadata": {},
   "outputs": [
    {
     "name": "stdout",
     "output_type": "stream",
     "text": [
      "[1, 2, 3, 4, 5, 6, 7, 8]\n"
     ]
    }
   ],
   "source": [
    "#Write a Python code to implement a function to flatten a nested list\n",
    "join = []\n",
    "\n",
    "def flatten(value):\n",
    "    for i in value:\n",
    "        if type(i) == list:\n",
    "            flatten(i)\n",
    "        else:\n",
    "            join.append(i)\n",
    "    return join\n",
    "            \n",
    "\n",
    "\n",
    "v = flatten([1,2,3,[4,5],[6,7],8])\n",
    "print(v)\n"
   ]
  },
  {
   "cell_type": "code",
   "execution_count": 5,
   "metadata": {},
   "outputs": [
    {
     "name": "stdout",
     "output_type": "stream",
     "text": [
      "2\n",
      "5\n"
     ]
    }
   ],
   "source": [
    "#Write a Python code to find the GCD of two numbers\n",
    "\n",
    "def gcd(a,b):\n",
    "    i=min(a,b)\n",
    "    while i>0:\n",
    "        if a%i==0 and b%i==0:\n",
    "            print(i)\n",
    "            break\n",
    "        i-=1\n",
    "    \n",
    "gcd(12,14)\n",
    "gcd(15,20)"
   ]
  },
  {
   "cell_type": "code",
   "execution_count": 9,
   "metadata": {},
   "outputs": [
    {
     "name": "stdout",
     "output_type": "stream",
     "text": [
      "[1, 5]\n"
     ]
    }
   ],
   "source": [
    "def subarray(arr,target):  #sumarray with given target value\n",
    "    length = len(arr)\n",
    "    for i in range(length):\n",
    "        for j in range(i+1,length):\n",
    "            if sum(arr[i:j]) == target:\n",
    "                return([i+1,j])\n",
    "    return [-1] \n",
    "\n",
    "arr = [ int(i) for i in input(\"enter number\").split()]\n",
    "target = int(input(\"enter the target value\"))\n",
    "value = subarray(arr,target)\n",
    "print(value)"
   ]
  },
  {
   "cell_type": "code",
   "execution_count": 16,
   "metadata": {},
   "outputs": [
    {
     "ename": "AttributeError",
     "evalue": "'list' object has no attribute 'size'",
     "output_type": "error",
     "traceback": [
      "\u001b[0;31m---------------------------------------------------------------------------\u001b[0m",
      "\u001b[0;31mAttributeError\u001b[0m                            Traceback (most recent call last)",
      "\u001b[1;32m/home/seetha/Desktop/Stepping_Code/program2.ipynb Cell 5\u001b[0m line \u001b[0;36m1\n\u001b[1;32m     <a href='vscode-notebook-cell:/home/seetha/Desktop/Stepping_Code/program2.ipynb#W5sZmlsZQ%3D%3D?line=11'>12</a>\u001b[0m     \u001b[39mfor\u001b[39;00m i \u001b[39min\u001b[39;00m \u001b[39mrange\u001b[39m(n):\n\u001b[1;32m     <a href='vscode-notebook-cell:/home/seetha/Desktop/Stepping_Code/program2.ipynb#W5sZmlsZQ%3D%3D?line=12'>13</a>\u001b[0m         arr[i]\u001b[39m=\u001b[39m\u001b[39mint\u001b[39m(\u001b[39minput\u001b[39m())\n\u001b[0;32m---> <a href='vscode-notebook-cell:/home/seetha/Desktop/Stepping_Code/program2.ipynb#W5sZmlsZQ%3D%3D?line=13'>14</a>\u001b[0m     Solution()\u001b[39m.\u001b[39;49mmissingNumber(arr)\n\u001b[1;32m     <a href='vscode-notebook-cell:/home/seetha/Desktop/Stepping_Code/program2.ipynb#W5sZmlsZQ%3D%3D?line=15'>16</a>\u001b[0m \u001b[39m#{ \u001b[39;00m\n\u001b[1;32m     <a href='vscode-notebook-cell:/home/seetha/Desktop/Stepping_Code/program2.ipynb#W5sZmlsZQ%3D%3D?line=16'>17</a>\u001b[0m  \u001b[39m# Driver Code Starts\u001b[39;00m\n\u001b[1;32m     <a href='vscode-notebook-cell:/home/seetha/Desktop/Stepping_Code/program2.ipynb#W5sZmlsZQ%3D%3D?line=17'>18</a>\u001b[0m \u001b[39m#Initial Template for Python 3\u001b[39;00m\n\u001b[1;32m     <a href='vscode-notebook-cell:/home/seetha/Desktop/Stepping_Code/program2.ipynb#W5sZmlsZQ%3D%3D?line=18'>19</a>\u001b[0m \n\u001b[1;32m     <a href='vscode-notebook-cell:/home/seetha/Desktop/Stepping_Code/program2.ipynb#W5sZmlsZQ%3D%3D?line=19'>20</a>\u001b[0m \n\u001b[1;32m     <a href='vscode-notebook-cell:/home/seetha/Desktop/Stepping_Code/program2.ipynb#W5sZmlsZQ%3D%3D?line=20'>21</a>\u001b[0m \u001b[39m# }\u001b[39;00m\n",
      "\u001b[1;32m/home/seetha/Desktop/Stepping_Code/program2.ipynb Cell 5\u001b[0m line \u001b[0;36m4\n\u001b[1;32m      <a href='vscode-notebook-cell:/home/seetha/Desktop/Stepping_Code/program2.ipynb#W5sZmlsZQ%3D%3D?line=2'>3</a>\u001b[0m \u001b[39mdef\u001b[39;00m \u001b[39mmissingNumber\u001b[39m(\u001b[39mself\u001b[39m, arr):\n\u001b[0;32m----> <a href='vscode-notebook-cell:/home/seetha/Desktop/Stepping_Code/program2.ipynb#W5sZmlsZQ%3D%3D?line=3'>4</a>\u001b[0m     \u001b[39mif\u001b[39;00m \u001b[39m1\u001b[39m \u001b[39m<\u001b[39m\u001b[39m=\u001b[39m arr\u001b[39m.\u001b[39;49msize() \u001b[39m<\u001b[39m\u001b[39m=\u001b[39m \u001b[39m10\u001b[39m\u001b[39m^\u001b[39m\u001b[39m6\u001b[39m:\n\u001b[1;32m      <a href='vscode-notebook-cell:/home/seetha/Desktop/Stepping_Code/program2.ipynb#W5sZmlsZQ%3D%3D?line=4'>5</a>\u001b[0m         \u001b[39mprint\u001b[39m(arr)\n",
      "\u001b[0;31mAttributeError\u001b[0m: 'list' object has no attribute 'size'"
     ]
    }
   ],
   "source": [
    "#Write a Python code to find the missing number in a sequence of numbers\n",
    "class Solution:\n",
    "    def missingNumber(self, arr):\n",
    "        if 1 <= arr.size() <= 10^6:\n",
    "            print(arr)\n",
    "            \n",
    "\n",
    "# Driver Code Starts\n",
    "if __name__ == \"__main__\":\n",
    "    n = int(input())\n",
    "    arr[n]\n",
    "    for i in range(n):\n",
    "        arr[i]=int(input())\n",
    "    Solution().missingNumber(arr)\n",
    "\n",
    "#{ \n",
    " # Driver Code Starts\n",
    "#Initial Template for Python 3\n",
    "\n",
    "\n",
    "# }"
   ]
  },
  {
   "cell_type": "code",
   "execution_count": 6,
   "metadata": {},
   "outputs": [
    {
     "name": "stdout",
     "output_type": "stream",
     "text": [
      "1.7320508075688772\n",
      "The number is not a perfect square\n"
     ]
    }
   ],
   "source": [
    "#Write a Python code to check if a number is a perfect square\n",
    "import math\n",
    "\n",
    "\n",
    "num = int(input(\"Enter a number: \"))\n",
    "root = math.sqrt(num)\n",
    "print(root)\n",
    "if int(root) ** 2 == num:\n",
    "    print(\"The number is a perfect square\")\n",
    "else:\n",
    "    print(\"The number is not a perfect square\")"
   ]
  }
 ],
 "metadata": {
  "kernelspec": {
   "display_name": "Python 3",
   "language": "python",
   "name": "python3"
  },
  "language_info": {
   "codemirror_mode": {
    "name": "ipython",
    "version": 3
   },
   "file_extension": ".py",
   "mimetype": "text/x-python",
   "name": "python",
   "nbconvert_exporter": "python",
   "pygments_lexer": "ipython3",
   "version": "3.10.12"
  },
  "orig_nbformat": 4
 },
 "nbformat": 4,
 "nbformat_minor": 2
}
