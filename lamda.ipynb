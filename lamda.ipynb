{
 "cells": [
  {
   "cell_type": "code",
   "execution_count": 1,
   "metadata": {},
   "outputs": [
    {
     "name": "stdout",
     "output_type": "stream",
     "text": [
      "[-4, -3, -2, -1, 0]\n"
     ]
    }
   ],
   "source": [
    "\"\"\" Filter only negative and zero in the list using list comprehension\n",
    "\n",
    "numbers = [-4, -3, -2, -1, 0, 2, 4, 6] \"\"\"\n",
    "\n",
    "numbers = [-4, -3, -2, -1, 0, 2, 4, 6]\n",
    "\n",
    "numbers1 = [i for i in numbers if i<=0]\n",
    "print(numbers1)\n"
   ]
  },
  {
   "cell_type": "code",
   "execution_count": 5,
   "metadata": {},
   "outputs": [
    {
     "name": "stdout",
     "output_type": "stream",
     "text": [
      "[1, 2, 3, 4, 5, 6, 7, 8, 9]\n"
     ]
    }
   ],
   "source": [
    "\"\"\" Flatten the following list of lists of lists to a one dimensional list :\n",
    "\n",
    "list_of_lists =[[[1, 2, 3]], [[4, 5, 6]], [[7, 8, 9]]]\n",
    "\n",
    "output\n",
    "[1, 2, 3, 4, 5, 6, 7, 8, 9] \"\"\"\n",
    "\n",
    "list_of_lists =[[[1, 2, 3]], [[4, 5, 6]], [[7, 8, 9]]]\n",
    "\n",
    "numbers1 = [numbers for row1 in list_of_lists for row2 in row1 for numbers in row2]\n",
    "print(numbers1)\n"
   ]
  },
  {
   "cell_type": "code",
   "execution_count": 23,
   "metadata": {},
   "outputs": [
    {
     "name": "stdout",
     "output_type": "stream",
     "text": [
      "(0, '1', 0, 0, 0, 0, 0)\n",
      "(1, '1', 1, 1, 1, 1, 1)\n",
      "(2, '1', 2, 4, 8, 16, 32)\n",
      "(3, '1', 3, 9, 27, 81, 243)\n",
      "(4, '1', 4, 16, 64, 256, 1024)\n",
      "(5, '1', 5, 25, 125, 625, 3125)\n",
      "(6, '1', 6, 36, 216, 1296, 7776)\n",
      "(7, '1', 7, 49, 343, 2401, 16807)\n",
      "(8, '1', 8, 64, 512, 4096, 32768)\n",
      "(9, '1', 9, 81, 729, 6561, 59049)\n",
      "(10, '1', 10, 100, 1000, 10000, 100000)\n"
     ]
    }
   ],
   "source": [
    "\"\"\" Using list comprehension create the following list of tuples:\n",
    "\n",
    "[(0, 1, 0, 0, 0, 0, 0),\n",
    "(1, 1, 1, 1, 1, 1, 1),\n",
    "(2, 1, 2, 4, 8, 16, 32),\n",
    "(3, 1, 3, 9, 27, 81, 243),\n",
    "(4, 1, 4, 16, 64, 256, 1024),\n",
    "(5, 1, 5, 25, 125, 625, 3125),\n",
    "(6, 1, 6, 36, 216, 1296, 7776),\n",
    "(7, 1, 7, 49, 343, 2401, 16807),\n",
    "(8, 1, 8, 64, 512, 4096, 32768),\n",
    "(9, 1, 9, 81, 729, 6561, 59049),\n",
    "(10, 1, 10, 100, 1000, 10000, 100000)] \"\"\"\n",
    "\n",
    "\n",
    "\n",
    "list = [(i,\"1\",i,i*i,i*i*i,i*i*i*i,i*i*i*i*i)for i in range(0,11)]\n",
    "for i in range (0,len(list)):\n",
    "    print(list[i])\n"
   ]
  },
  {
   "cell_type": "code",
   "execution_count": 48,
   "metadata": {},
   "outputs": [
    {
     "name": "stdout",
     "output_type": "stream",
     "text": [
      "[['FINLAND', 'FIN', 'HELSINKI'], ['SWEDEN', 'SWE', 'STOCKHOLM'], ['NORWAY', 'NOR', 'OSLO']]\n"
     ]
    }
   ],
   "source": [
    "\"\"\" Flatten the following list to a new list:\n",
    "\n",
    "countries = [[('Finland', 'Helsinki')], [('Sweden', 'Stockholm')], [('Norway', 'Oslo')]]\n",
    "output:\n",
    "[['FINLAND','FIN', 'HELSINKI'], ['SWEDEN', 'SWE', 'STOCKHOLM'], ['NORWAY', 'NOR', 'OSLO']] \"\"\"\n",
    " \n",
    "\n",
    "countries = [[('Finland', 'Helsinki')], [('Sweden', 'Stockholm')], [('Norway', 'Oslo')]]\n",
    "list1 = [[values.upper(),values[:3].upper(),capital.upper()] for row in countries for (values,capital) in row ]\n",
    "print(list1)"
   ]
  },
  {
   "cell_type": "code",
   "execution_count": 50,
   "metadata": {},
   "outputs": [
    {
     "name": "stdout",
     "output_type": "stream",
     "text": [
      "[{'country': 'FINLAND', 'city': 'HELSINKI'}, {'country': 'SWEDEN', 'city': 'STOCKHOLM'}, {'country': 'NORWAY', 'city': 'OSLO'}]\n"
     ]
    }
   ],
   "source": [
    "\"\"\" Change the following list to a list of dictionaries:\n",
    "\n",
    "countries = [[('Finland', 'Helsinki')], [('Sweden', 'Stockholm')], [('Norway', 'Oslo')]]\n",
    "output:\n",
    "[{'country': 'FINLAND', 'city': 'HELSINKI'},\n",
    "{'country': 'SWEDEN', 'city': 'STOCKHOLM'},\n",
    "{'country': 'NORWAY', 'city': 'OSLO'}] \"\"\"\n",
    "\n",
    "\n",
    "countries = [[('Finland', 'Helsinki')], [('Sweden', 'Stockholm')], [('Norway', 'Oslo')]]\n",
    "list1 = [{'country':values.upper(),'city':capital.upper()} for row in countries for (values,capital) in row ]\n",
    "print(list1)"
   ]
  },
  {
   "cell_type": "code",
   "execution_count": 55,
   "metadata": {},
   "outputs": [
    {
     "name": "stdout",
     "output_type": "stream",
     "text": [
      "['Asabeneh Yetayeh', 'David Smith', 'Donald Trump', 'Bill Gates']\n"
     ]
    }
   ],
   "source": [
    "\"\"\" Change the following list of lists to a list of concatenated strings:\n",
    "\n",
    "names = [[('Asabeneh', 'Yetayeh')], [('David', 'Smith')], [('Donald', 'Trump')], [('Bill', 'Gates')]]\n",
    "output\n",
    "['Asabeneh Yetaeyeh', 'David Smith', 'Donald Trump', 'Bill Gates']\n",
    " \"\"\"\n",
    "names = [[('Asabeneh', 'Yetayeh')], [('David', 'Smith')], [('Donald', 'Trump')], [('Bill', 'Gates')]]\n",
    "\n",
    "list1 = [(values+\" \"+surname)for row in names for (values,surname)in row]\n",
    "print(list1) "
   ]
  },
  {
   "cell_type": "code",
   "execution_count": 56,
   "metadata": {},
   "outputs": [
    {
     "name": "stdout",
     "output_type": "stream",
     "text": [
      "24\n"
     ]
    }
   ],
   "source": [
    "\"\"\" Write a lambda function which can solve a linear functions.\n",
    "\n",
    " \"\"\"\n",
    "values = lambda x:x**2+x*4+3\n",
    "print(values(3))\n",
    " "
   ]
  }
 ],
 "metadata": {
  "kernelspec": {
   "display_name": "Python 3",
   "language": "python",
   "name": "python3"
  },
  "language_info": {
   "codemirror_mode": {
    "name": "ipython",
    "version": 3
   },
   "file_extension": ".py",
   "mimetype": "text/x-python",
   "name": "python",
   "nbconvert_exporter": "python",
   "pygments_lexer": "ipython3",
   "version": "3.10.12"
  },
  "orig_nbformat": 4
 },
 "nbformat": 4,
 "nbformat_minor": 2
}
