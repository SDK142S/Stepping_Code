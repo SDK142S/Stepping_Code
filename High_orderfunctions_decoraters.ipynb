{
 "cells": [
  {
   "cell_type": "code",
   "execution_count": 1,
   "metadata": {},
   "outputs": [
    {
     "name": "stdout",
     "output_type": "stream",
     "text": [
      "I am Asabeneh Yetayeh. I love to teach.\n",
      "I live in Finland\n"
     ]
    }
   ],
   "source": [
    "def decorator_with_parameters(function):\n",
    "    def wrapper_accepting_parameters(para1, para2, para3):\n",
    "        function(para1, para2, para3)\n",
    "        print(\"I live in {}\".format(para3))\n",
    "    return wrapper_accepting_parameters\n",
    "\n",
    "@decorator_with_parameters\n",
    "def print_full_name(first_name, last_name, country):\n",
    "    print(\"I am {} {}. I love to teach.\".format(\n",
    "        first_name, last_name, country))\n",
    "\n",
    "print_full_name(\"Asabeneh\", \"Yetayeh\",'Finland')"
   ]
  },
  {
   "cell_type": "code",
   "execution_count": 17,
   "metadata": {},
   "outputs": [
    {
     "name": "stdout",
     "output_type": "stream",
     "text": [
      "['Asabeneh', 'Yetayeh', 'Finland', 'Finland']\n",
      "sum: 55\n"
     ]
    }
   ],
   "source": [
    "\"\"\" Declare a function called get_string_lists which takes a list as a parameter and then returns a list containing only string items.\n",
    "Use reduce to sum all the numbers in the numbers list.\n",
    " \"\"\"\n",
    "from functools import reduce\n",
    "def get_string_lists(lists):\n",
    "    if type(lists) == str:\n",
    "        return True\n",
    "    else:\n",
    "        return False\n",
    "    \n",
    "list1 = [\"Asabeneh\", \"Yetayeh\",'Finland',2,3,'Finland']\n",
    "list2 = filter(get_string_lists,list1)\n",
    "print(list(list2))\n",
    "\n",
    "numbers = [1, 2, 3, 4, 5, 6, 7, 8, 9, 10]\n",
    "\n",
    "value = reduce(lambda x,y: x+y,numbers)\n",
    "print(\"sum:\",value)\n",
    "\n"
   ]
  },
  {
   "cell_type": "code",
   "execution_count": 5,
   "metadata": {},
   "outputs": [
    {
     "name": "stdout",
     "output_type": "stream",
     "text": [
      "['ESTONIA', 'FINLAND', 'SWEDEN', 'DENMARK', 'NORWAY', 'ICELAND']\n"
     ]
    }
   ],
   "source": [
    "\"\"\" Use map to create a new list by changing each country to uppercase in the countries list\n",
    "\"\"\"\n",
    "\n",
    "countries = ['Estonia', 'Finland', 'Sweden', 'Denmark', 'Norway', 'Iceland']\n",
    "\n",
    "upper_list = map(lambda x: x.upper(),countries)\n",
    "print(list(upper_list))\n",
    "\n"
   ]
  },
  {
   "cell_type": "code",
   "execution_count": 10,
   "metadata": {},
   "outputs": [
    {
     "name": "stdout",
     "output_type": "stream",
     "text": [
      "['Finland', 'Iceland', 'england']\n",
      "['Sweden', 'Norway']\n",
      "['Estonia', 'england']\n"
     ]
    }
   ],
   "source": [
    "\"\"\" Use filter to filter out countries containing 'land'.\n",
    "Use filter to filter out countries having exactly six characters.\n",
    "Use filter to filter out countries containing six letters and more in the country list.\n",
    "Use filter to filter out countries starting with an 'E'\n",
    " \"\"\"\n",
    " \n",
    "countries = ['Estonia', 'Finland', 'Sweden', 'Denmark', 'Norway', 'Iceland','england']\n",
    "\n",
    "def landed(name):\n",
    "    if \"land\" in name:\n",
    "        return True\n",
    "    else:\n",
    "        return False\n",
    "    \n",
    "list_lands = filter(landed,countries)\n",
    "print(list(list_lands))\n",
    "\n",
    "def letters(name):\n",
    "    if len(name)==6:\n",
    "        return True\n",
    "    else:\n",
    "        return False\n",
    "    \n",
    "list_lands1 = filter(letters,countries)\n",
    "print(list(list_lands1))\n",
    "\n",
    "def landeds(name):\n",
    "    if name[0] in ['E','e']:\n",
    "        return True\n",
    "    else:\n",
    "        return False\n",
    "    \n",
    "list_lands2 = filter(landeds,countries)\n",
    "print(list(list_lands2))"
   ]
  },
  {
   "cell_type": "code",
   "execution_count": 13,
   "metadata": {},
   "outputs": [
    {
     "name": "stdout",
     "output_type": "stream",
     "text": [
      "[16, 25, 36, 49, 64, 81, 100]\n"
     ]
    }
   ],
   "source": [
    "\"\"\" Chain two or more list iterators (eg. arr.map(callback).filter(callback)\"\"\"\n",
    " \n",
    "numbers = [1, 2, 3, 4, 5, 6, 7, 8, 9, 10]\n",
    "list_value = filter(lambda x: True if (x>10) else False,map(lambda x:x**2,numbers))\n",
    "print(list(list_value))"
   ]
  },
  {
   "cell_type": "code",
   "execution_count": 26,
   "metadata": {},
   "outputs": [
    {
     "name": "stdout",
     "output_type": "stream",
     "text": [
      "{'land': ['Finland', 'Iceland', 'england'], 'ia': ['Estonia'], 'island': [], 'stan': []}\n"
     ]
    }
   ],
   "source": [
    "\"\"\" Declare a function called categorize_countries that returns a list of countries with some common pattern (you can find the countries list in this repository as countries.js(eg 'land', 'ia', 'island', 'stan')). \"\"\"\n",
    "\n",
    "def categorize_countries(values):\n",
    "    dict ={\"land\":[],\"ia\":[],\"island\":[],\"stan\":[]}\n",
    "    for value in values:\n",
    "        if \"island\" in value:\n",
    "            dict[\"island\"].append(value)\n",
    "            dict[\"land\"].append(value)\n",
    "        elif \"ia\" in value:\n",
    "            dict[\"ia\"].append(value)\n",
    "        elif \"stan\" in value:\n",
    "            dict[\"stan\"].append(value)\n",
    "        elif \"land\" in value:\n",
    "            dict[\"land\"].append(value)\n",
    "    return dict\n",
    "countries = ['Estonia', 'Finland', 'Sweden', 'Denmark', 'Norway', 'Iceland','england']\n",
    "#value = map(categorize_countries,countries)\n",
    "value = categorize_countries(countries)\n",
    "print(value)\n"
   ]
  },
  {
   "cell_type": "code",
   "execution_count": 35,
   "metadata": {},
   "outputs": [
    {
     "name": "stdout",
     "output_type": "stream",
     "text": [
      "['Estonia', 'Finland', 'Sweden', 'Denmark', 'Norway', 'Iceland', 'england']\n",
      "['england', 'Iceland', 'Norway', 'Denmark', 'Sweden']\n"
     ]
    }
   ],
   "source": [
    "\"\"\" Declare a get_last_ten_countries function that returns the last ten countries in the countries list.\n",
    " \"\"\"\n",
    " \n",
    " \n",
    "def get_last_five_countries(lists):\n",
    "    l = len(lists)\n",
    "    list = []\n",
    "    print(lists)\n",
    "    for i in range(1,6):\n",
    "        list.append(lists[-i])\n",
    "        \n",
    "    print(list)\n",
    "countries = ['Estonia', 'Finland', 'Sweden', 'Denmark', 'Norway', 'Iceland','england']   \n",
    "get_last_five_countries(countries)"
   ]
  }
 ],
 "metadata": {
  "kernelspec": {
   "display_name": "Python 3",
   "language": "python",
   "name": "python3"
  },
  "language_info": {
   "codemirror_mode": {
    "name": "ipython",
    "version": 3
   },
   "file_extension": ".py",
   "mimetype": "text/x-python",
   "name": "python",
   "nbconvert_exporter": "python",
   "pygments_lexer": "ipython3",
   "version": "3.10.12"
  },
  "orig_nbformat": 4
 },
 "nbformat": 4,
 "nbformat_minor": 2
}
