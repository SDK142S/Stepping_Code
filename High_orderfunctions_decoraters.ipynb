{
 "cells": [
  {
   "cell_type": "code",
   "execution_count": 1,
   "metadata": {},
   "outputs": [
    {
     "name": "stdout",
     "output_type": "stream",
     "text": [
      "I am Asabeneh Yetayeh. I love to teach.\n",
      "I live in Finland\n"
     ]
    }
   ],
   "source": [
    "def decorator_with_parameters(function):\n",
    "    def wrapper_accepting_parameters(para1, para2, para3):\n",
    "        function(para1, para2, para3)\n",
    "        print(\"I live in {}\".format(para3))\n",
    "    return wrapper_accepting_parameters\n",
    "\n",
    "@decorator_with_parameters\n",
    "def print_full_name(first_name, last_name, country):\n",
    "    print(\"I am {} {}. I love to teach.\".format(\n",
    "        first_name, last_name, country))\n",
    "\n",
    "print_full_name(\"Asabeneh\", \"Yetayeh\",'Finland')"
   ]
  },
  {
   "cell_type": "code",
   "execution_count": 5,
   "metadata": {},
   "outputs": [
    {
     "name": "stdout",
     "output_type": "stream",
     "text": [
      "['ESTONIA', 'FINLAND', 'SWEDEN', 'DENMARK', 'NORWAY', 'ICELAND']\n"
     ]
    }
   ],
   "source": [
    "\"\"\" Use map to create a new list by changing each country to uppercase in the countries list\n",
    "Use map to create a new list by changing each number to its square in the numbers list\n",
    "Use map to change each name to uppercase in the names list \"\"\"\n",
    "\n",
    "countries = ['Estonia', 'Finland', 'Sweden', 'Denmark', 'Norway', 'Iceland']\n",
    "\n",
    "upper_list = map(lambda x: x.upper(),countries)\n",
    "print(list(upper_list))\n",
    "\n"
   ]
  }
 ],
 "metadata": {
  "kernelspec": {
   "display_name": "Python 3",
   "language": "python",
   "name": "python3"
  },
  "language_info": {
   "codemirror_mode": {
    "name": "ipython",
    "version": 3
   },
   "file_extension": ".py",
   "mimetype": "text/x-python",
   "name": "python",
   "nbconvert_exporter": "python",
   "pygments_lexer": "ipython3",
   "version": "3.10.12"
  },
  "orig_nbformat": 4
 },
 "nbformat": 4,
 "nbformat_minor": 2
}
