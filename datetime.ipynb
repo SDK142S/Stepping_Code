{
 "cells": [
  {
   "cell_type": "code",
   "execution_count": null,
   "metadata": {},
   "outputs": [],
   "source": [
    "\"\"\" Get the current day, month, year, hour, minute and timestamp from datetime module\n",
    " \"\"\""
   ]
  },
  {
   "cell_type": "code",
   "execution_count": 32,
   "metadata": {},
   "outputs": [
    {
     "name": "stdout",
     "output_type": "stream",
     "text": [
      "19 January 2025 Sunday \n"
     ]
    }
   ],
   "source": [
    "from datetime import date,time,datetime\n",
    "cur = datetime.now()\n",
    "print(datetime.strftime(cur,\"%d %B %Y %A \"))"
   ]
  },
  {
   "cell_type": "code",
   "execution_count": 29,
   "metadata": {},
   "outputs": [
    {
     "name": "stdout",
     "output_type": "stream",
     "text": [
      "1970-01-01 00:00:00\n",
      "2025-01-19 22:15:09.806407\n",
      "20107 days, 22:15:09.806407\n"
     ]
    }
   ],
   "source": [
    "# Calculate the time difference between 1 January 1970 and now.\n",
    "\n",
    "from datetime import date,time,datetime\n",
    "cur = \"1 January 1970\"\n",
    "current_date = datetime.strptime(cur,\"%d %B %Y\")\n",
    "to  = datetime.now()\n",
    "diff = to - current_date\n",
    "print(current_date)\n",
    "print(to)\n",
    "print(diff)"
   ]
  },
  {
   "cell_type": "code",
   "execution_count": 5,
   "metadata": {},
   "outputs": [
    {
     "name": "stdout",
     "output_type": "stream",
     "text": [
      "5 December, 2019\n",
      "2019-12-05 00:00:00\n"
     ]
    }
   ],
   "source": [
    "\"\"\" Today is 5 December, 2019. Change this time string to time.\n",
    " \"\"\"\n",
    "from datetime import datetime\n",
    "\n",
    "date_value = \"5 December, 2019\"\n",
    "print(date_value)\n",
    "date_change = datetime.strptime(date_value,\"%d %B, %Y\")\n",
    "print(date_change)"
   ]
  },
  {
   "cell_type": "code",
   "execution_count": 23,
   "metadata": {},
   "outputs": [
    {
     "name": "stdout",
     "output_type": "stream",
     "text": [
      "difference:  347 days, 0:00:00\n"
     ]
    }
   ],
   "source": [
    "\"\"\" Calculate the time difference between now and new year.\n",
    " \"\"\"\n",
    "from datetime import date,timedelta,time\n",
    "to = date.today()\n",
    "new = date(year=2026,month=1,day=1)\n",
    "diff = new - to\n",
    "print(\"difference: \",diff)\n"
   ]
  },
  {
   "cell_type": "code",
   "execution_count": 2,
   "metadata": {},
   "outputs": [
    {
     "name": "stdout",
     "output_type": "stream",
     "text": [
      "year: 2025\n",
      "month: 1\n",
      "day: 19\n",
      "hour: 21\n",
      "minute: 32\n",
      "timestamp: 1737302545.112685\n"
     ]
    }
   ],
   "source": [
    "from datetime import datetime\n",
    "now = datetime.now()\n",
    "print(f\"year: {now.year}\")\n",
    "print(f\"month: {now.month}\")\n",
    "print(f\"day: {now.day}\")\n",
    "print(f\"hour: {now.hour}\")\n",
    "print(f\"minute: {now.minute}\")\n",
    "print(f\"timestamp: {now.timestamp()}\")"
   ]
  },
  {
   "cell_type": "code",
   "execution_count": 3,
   "metadata": {},
   "outputs": [
    {
     "name": "stdout",
     "output_type": "stream",
     "text": [
      "01/19/2025, 21:35:29\n"
     ]
    }
   ],
   "source": [
    "\"\"\" Format the current date using this format: \"%m/%d/%Y, %H:%M:%S\")\n",
    " \"\"\"\n",
    " \n",
    "from datetime import datetime\n",
    "now = datetime.now()\n",
    "current_date = datetime.strftime(now,\"%m/%d/%Y, %H:%M:%S\")\n",
    "print(current_date)"
   ]
  }
 ],
 "metadata": {
  "kernelspec": {
   "display_name": "Python 3",
   "language": "python",
   "name": "python3"
  },
  "language_info": {
   "codemirror_mode": {
    "name": "ipython",
    "version": 3
   },
   "file_extension": ".py",
   "mimetype": "text/x-python",
   "name": "python",
   "nbconvert_exporter": "python",
   "pygments_lexer": "ipython3",
   "version": "3.10.12"
  },
  "orig_nbformat": 4
 },
 "nbformat": 4,
 "nbformat_minor": 2
}
