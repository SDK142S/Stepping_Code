{
 "cells": [
  {
   "cell_type": "code",
   "execution_count": 43,
   "metadata": {},
   "outputs": [
    {
     "name": "stdout",
     "output_type": "stream",
     "text": [
      "2Bi5ql\n"
     ]
    }
   ],
   "source": [
    "\"\"\" Writ a function which generates a six digit/character random_user_id.\n",
    " \"\"\"\n",
    " \n",
    "import string\n",
    "import random \n",
    "\n",
    "def random_user_id(num):\n",
    "    characters = string.ascii_letters+string.digits\n",
    "    id = \"\".join(random.choices(characters,k=num))\n",
    "    print(id)\n",
    "    \n",
    "random_user_id(6)"
   ]
  }
 ],
 "metadata": {
  "kernelspec": {
   "display_name": "Python 3",
   "language": "python",
   "name": "python3"
  },
  "language_info": {
   "codemirror_mode": {
    "name": "ipython",
    "version": 3
   },
   "file_extension": ".py",
   "mimetype": "text/x-python",
   "name": "python",
   "nbconvert_exporter": "python",
   "pygments_lexer": "ipython3",
   "version": "3.10.12"
  },
  "orig_nbformat": 4
 },
 "nbformat": 4,
 "nbformat_minor": 2
}
