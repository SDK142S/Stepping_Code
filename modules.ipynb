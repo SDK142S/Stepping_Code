{
 "cells": [
  {
   "cell_type": "code",
   "execution_count": 43,
   "metadata": {},
   "outputs": [
    {
     "name": "stdout",
     "output_type": "stream",
     "text": [
      "2Bi5ql\n"
     ]
    }
   ],
   "source": [
    "\"\"\" Writ a function which generates a six digit/character random_user_id.\n",
    " \"\"\"\n",
    " \n",
    "import string\n",
    "import random \n",
    "\n",
    "def random_user_id(num):\n",
    "    characters = string.ascii_letters+string.digits\n",
    "    id = \"\".join(random.choices(characters,k=num))\n",
    "    print(id)\n",
    "    \n",
    "random_user_id(6)"
   ]
  },
  {
   "cell_type": "code",
   "execution_count": 45,
   "metadata": {},
   "outputs": [
    {
     "name": "stdout",
     "output_type": "stream",
     "text": [
      "kMYbOGxwRJKGMEOA\n",
      "OiTWdw1svCdh03Go\n",
      "4wTPovAIhwyYUo65\n",
      "DOnU5Nx432puaGAd\n",
      "1B1pm2fh1XWT4ZaG\n"
     ]
    }
   ],
   "source": [
    "\"\"\" Modify the previous task. Declare a function named user_id_gen_by_user. It doesn’t take any parameters but it takes two inputs using input(). One of the inputs is the number of characters and the second input is the number of IDs which are supposed to be generated.\n",
    "print(user_id_gen_by_user()) # user input: 5 5\n",
    "#output:\n",
    "#kcsy2\n",
    "#SMFYb\n",
    "#bWmeq\n",
    "#ZXOYh\n",
    "#2Rgxf\n",
    "   \n",
    "print(user_id_gen_by_user()) # 16 5\n",
    "#1GCSgPLMaBAVQZ26\n",
    "#YD7eFwNQKNs7qXaT\n",
    "#ycArC5yrRupyG00S\n",
    "#UbGxOFI7UXSWAyKN\n",
    "#dIV0SSUTgAdKwStr \"\"\"\n",
    "\n",
    "\n",
    "\n",
    "import string\n",
    "import random \n",
    "\n",
    "def random_user_id(count,rows):\n",
    "    for i in range(0,rows):\n",
    "        characters = string.ascii_letters+string.digits\n",
    "        id = \"\".join(random.choices(characters,k=count))\n",
    "        print(id)\n",
    "\n",
    "\n",
    "count = int(input(\"enter the count: \"))\n",
    "rows = int(input(\"enter the rows: \"))\n",
    "\n",
    "random_user_id(count,rows)"
   ]
  },
  {
   "cell_type": "code",
   "execution_count": 50,
   "metadata": {},
   "outputs": [
    {
     "name": "stdout",
     "output_type": "stream",
     "text": [
      "rgb(135, 133, 138)\n",
      "rgb(135, 107, 75)\n",
      "rgb(156, 25, 107)\n"
     ]
    }
   ],
   "source": [
    "\"\"\" Write a function named rgb_color_gen. It will generate rgb colors (3 values ranging from 0 to 255 each).\n",
    "print(rgb_color_gen())\n",
    "# rgb(125,244,255) - the output should be in this form \"\"\"\n",
    "\n",
    "from random import randint\n",
    "def rgb_color_gen(colors):\n",
    "    for i in range(0,colors):\n",
    "        values = []\n",
    "        for k in range(0,3):\n",
    "            values.append(randint(0,255))\n",
    "        print(f\"rgb{tuple(values)}\")\n",
    "\n",
    "rgb_color_gen(3)\n",
    "        \n",
    "    "
   ]
  },
  {
   "cell_type": "code",
   "execution_count": 7,
   "metadata": {},
   "outputs": [
    {
     "name": "stdout",
     "output_type": "stream",
     "text": [
      "('a', 'b', 'c', 'd', 'e', 'f', '0', '1', '2', '3', '4', '5', '6', '7', '8', '9')\n"
     ]
    }
   ],
   "source": [
    "\"\"\" Write a function list_of_hexa_colors which returns any number of hexadecimal colors in an array (six hexadecimal numbers written after #. Hexadecimal numeral system is made out of 16 symbols, 0-9 and first 6 letters of the alphabet, a-f. Check the task 6 for output examples). \"\"\"\n",
    "import string\n",
    "from random import random,randint\n",
    "def list_of_hexa_colors(num):\n",
    "    characters = ('a','b','c','d','e','f')+tuple(string.digits)\n",
    "    print(characters)\n",
    "    \n",
    "list_of_hexa_colors(3)"
   ]
  }
 ],
 "metadata": {
  "kernelspec": {
   "display_name": "Python 3",
   "language": "python",
   "name": "python3"
  },
  "language_info": {
   "codemirror_mode": {
    "name": "ipython",
    "version": 3
   },
   "file_extension": ".py",
   "mimetype": "text/x-python",
   "name": "python",
   "nbconvert_exporter": "python",
   "pygments_lexer": "ipython3",
   "version": "3.10.12"
  },
  "orig_nbformat": 4
 },
 "nbformat": 4,
 "nbformat_minor": 2
}
