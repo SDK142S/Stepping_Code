{
 "cells": [
  {
   "cell_type": "code",
   "execution_count": 43,
   "metadata": {},
   "outputs": [
    {
     "name": "stdout",
     "output_type": "stream",
     "text": [
      "2Bi5ql\n"
     ]
    }
   ],
   "source": [
    "\"\"\" Writ a function which generates a six digit/character random_user_id.\n",
    " \"\"\"\n",
    " \n",
    "import string\n",
    "import random \n",
    "\n",
    "def random_user_id(num):\n",
    "    characters = string.ascii_letters+string.digits\n",
    "    id = \"\".join(random.choices(characters,k=num))\n",
    "    print(id)\n",
    "    \n",
    "random_user_id(6)"
   ]
  },
  {
   "cell_type": "code",
   "execution_count": 45,
   "metadata": {},
   "outputs": [
    {
     "name": "stdout",
     "output_type": "stream",
     "text": [
      "kMYbOGxwRJKGMEOA\n",
      "OiTWdw1svCdh03Go\n",
      "4wTPovAIhwyYUo65\n",
      "DOnU5Nx432puaGAd\n",
      "1B1pm2fh1XWT4ZaG\n"
     ]
    }
   ],
   "source": [
    "\"\"\" Modify the previous task. Declare a function named user_id_gen_by_user. It doesn’t take any parameters but it takes two inputs using input(). One of the inputs is the number of characters and the second input is the number of IDs which are supposed to be generated.\n",
    "print(user_id_gen_by_user()) # user input: 5 5\n",
    "#output:\n",
    "#kcsy2\n",
    "#SMFYb\n",
    "#bWmeq\n",
    "#ZXOYh\n",
    "#2Rgxf\n",
    "   \n",
    "print(user_id_gen_by_user()) # 16 5\n",
    "#1GCSgPLMaBAVQZ26\n",
    "#YD7eFwNQKNs7qXaT\n",
    "#ycArC5yrRupyG00S\n",
    "#UbGxOFI7UXSWAyKN\n",
    "#dIV0SSUTgAdKwStr \"\"\"\n",
    "\n",
    "\n",
    "\n",
    "import string\n",
    "import random \n",
    "\n",
    "def random_user_id(count,rows):\n",
    "    for i in range(0,rows):\n",
    "        characters = string.ascii_letters+string.digits\n",
    "        id = \"\".join(random.choices(characters,k=count))\n",
    "        print(id)\n",
    "\n",
    "\n",
    "count = int(input(\"enter the count: \"))\n",
    "rows = int(input(\"enter the rows: \"))\n",
    "\n",
    "random_user_id(count,rows)"
   ]
  },
  {
   "cell_type": "code",
   "execution_count": 50,
   "metadata": {},
   "outputs": [
    {
     "name": "stdout",
     "output_type": "stream",
     "text": [
      "rgb(135, 133, 138)\n",
      "rgb(135, 107, 75)\n",
      "rgb(156, 25, 107)\n"
     ]
    }
   ],
   "source": [
    "\"\"\" Write a function named rgb_color_gen. It will generate rgb colors (3 values ranging from 0 to 255 each).\n",
    "print(rgb_color_gen())\n",
    "# rgb(125,244,255) - the output should be in this form \"\"\"\n",
    "\n",
    "from random import randint\n",
    "def rgb_color_gen(colors):\n",
    "    for i in range(0,colors):\n",
    "        values = []\n",
    "        for k in range(0,3):\n",
    "            values.append(randint(0,255))\n",
    "        print(f\"rgb{tuple(values)}\")\n",
    "\n",
    "rgb_color_gen(3)\n",
    "        \n",
    "    "
   ]
  },
  {
   "cell_type": "code",
   "execution_count": 12,
   "metadata": {},
   "outputs": [
    {
     "name": "stdout",
     "output_type": "stream",
     "text": [
      "981a76c04b33fe49\n",
      "5ec39670640e7786\n",
      "cb6aecd41d8564a9\n",
      "96b088e6a6b8e158\n",
      "efe525ec764c61e6\n",
      "f904e31141cf0fc8\n"
     ]
    }
   ],
   "source": [
    "\"\"\" Write a function list_of_hexa_colors which returns any number of hexadecimal colors in an array (six hexadecimal numbers written after #. Hexadecimal numeral system is made out of 16 symbols, 0-9 and first 6 letters of the alphabet, a-f. Check the task 6 for output examples). \"\"\"\n",
    "import string\n",
    "import random \n",
    "def list_of_hexa_colors(num):\n",
    "    characters = ('a','b','c','d','e','f')+tuple(string.digits)\n",
    "    values = ()\n",
    "    for i in range(0,num):\n",
    "        values = \"\".join(random.choices(characters,k=16))\n",
    "        print(values)\n",
    "    \n",
    "list_of_hexa_colors(6)"
   ]
  },
  {
   "cell_type": "code",
   "execution_count": 43,
   "metadata": {},
   "outputs": [
    {
     "name": "stdout",
     "output_type": "stream",
     "text": [
      "['#a8c944', '#6bbfb0', '#a05ba0']\n",
      "['#993a7e']\n",
      "(29, 34, 252)\n",
      "(30, 119, 77)\n",
      "(130, 117, 204)\n",
      "['rgb(29, 34, 252)', 'rgb(30, 119, 77)', 'rgb(130, 117, 204)']\n",
      "(72, 73, 111)\n",
      "['rgb(72, 73, 111)']\n"
     ]
    }
   ],
   "source": [
    "\"\"\" Write a function generate_colors which can generate any number of hexa or rgb colors.\n",
    "   generate_colors('hexa', 3) # ['#a3e12f','#03ed55','#eb3d2b'] \n",
    "   generate_colors('hexa', 1) # ['#b334ef']\n",
    "   generate_colors('rgb', 3)  # ['rgb(5, 55, 175','rgb(50, 105, 100','rgb(15, 26, 80'] \n",
    "   generate_colors('rgb', 1)  # ['rgb(33,79, 176)'] \"\"\"\n",
    "   \n",
    "   \n",
    "def generate_colors(color,num):\n",
    "    if color ==\"hexa\":\n",
    "        characters = ('a','b','c','d','e','f')+tuple(string.digits)\n",
    "        values = ()\n",
    "        out = []\n",
    "        for i in range(0,num):\n",
    "            values =\"#\"+ \"\".join(random.choices(characters,k=6))\n",
    "            out.append(values)\n",
    "        print(out)\n",
    "    else:\n",
    "        out = []\n",
    "        for i in range(0,num):\n",
    "            values = tuple(random.randint(0, 255) for _ in range(3))\n",
    "            #print(values)\n",
    "            # Format the RGB tuple as a string and append to the list\n",
    "            out.append(f\"rgb({values[0]}, {values[1]}, {values[2]})\")\n",
    "        print(out)\n",
    "        #print(f'rgb {values}')\n",
    "            \n",
    "generate_colors('hexa', 3) # ['#a3e12f','#03ed55','#eb3d2b'] \n",
    "generate_colors('hexa', 1) # ['#b334ef']\n",
    "generate_colors('rgb', 3)  # ['rgb(5, 55, 175','rgb(50, 105, 100','rgb(15, 26, 80'] \n",
    "generate_colors('rgb', 1)  # ['rgb(33,79, 176)']\n",
    "            "
   ]
  },
  {
   "cell_type": "code",
   "execution_count": null,
   "metadata": {},
   "outputs": [],
   "source": []
  },
  {
   "cell_type": "code",
   "execution_count": 7,
   "metadata": {},
   "outputs": [
    {
     "name": "stdout",
     "output_type": "stream",
     "text": [
      "Actual list: ['Apple', 'cherry', 'orange', 'Banana']\n",
      "shuffled: ['cherry', 'Apple', 'Banana', 'orange']\n"
     ]
    }
   ],
   "source": [
    "\"\"\" Call your function shuffle_list, it takes a list as a parameter and it returns a shuffled list\n",
    " \"\"\"\n",
    " \n",
    "import random\n",
    "def shuffle_list(list):\n",
    "    print(f\"Actual list: {list}\")\n",
    "    random.shuffle(list)                       #shuffle is used to shuffle the list\n",
    "    return list\n",
    "    \n",
    "list1 = shuffle_list(['Apple','cherry','orange','Banana'])\n",
    "print(f\"shuffled: {list1}\")"
   ]
  },
  {
   "cell_type": "code",
   "execution_count": 12,
   "metadata": {},
   "outputs": [
    {
     "name": "stdout",
     "output_type": "stream",
     "text": [
      "3023880\n"
     ]
    },
    {
     "data": {
      "text/plain": [
       "<function __main__.unique_Array1()>"
      ]
     },
     "execution_count": 12,
     "metadata": {},
     "output_type": "execute_result"
    }
   ],
   "source": [
    "\"\"\" Write a function which returns an array of seven random numbers in a range of 0-9. All the numbers must be unique.\n",
    " \"\"\"\n",
    " \n",
    "import string\n",
    "import random\n",
    "def unique_Array():\n",
    "     list = string.digits\n",
    "     list1 = \"\".join(random.choices(list,k=7)) \n",
    "     print(list1)\n",
    "     \n",
    "unique_Array()\n",
    "\n",
    "\n",
    "\"or\"\n"
   ]
  },
  {
   "cell_type": "code",
   "execution_count": 18,
   "metadata": {},
   "outputs": [
    {
     "name": "stdout",
     "output_type": "stream",
     "text": [
      "[6, 0, 9, 3, 8, 7, 2]\n"
     ]
    }
   ],
   "source": [
    "def unique_Array1():\n",
    "    list1 = random.sample(range(10),k=7)       #sample is used to generate unique numbers\n",
    "    print(list1)\n",
    "\n",
    "unique_Array1()"
   ]
  }
 ],
 "metadata": {
  "kernelspec": {
   "display_name": "Python 3",
   "language": "python",
   "name": "python3"
  },
  "language_info": {
   "codemirror_mode": {
    "name": "ipython",
    "version": 3
   },
   "file_extension": ".py",
   "mimetype": "text/x-python",
   "name": "python",
   "nbconvert_exporter": "python",
   "pygments_lexer": "ipython3",
   "version": "3.10.12"
  },
  "orig_nbformat": 4
 },
 "nbformat": 4,
 "nbformat_minor": 2
}
