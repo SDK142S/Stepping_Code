{
 "cells": [
  {
   "cell_type": "code",
   "execution_count": 43,
   "metadata": {},
   "outputs": [
    {
     "name": "stdout",
     "output_type": "stream",
     "text": [
      "2Bi5ql\n"
     ]
    }
   ],
   "source": [
    "\"\"\" Writ a function which generates a six digit/character random_user_id.\n",
    " \"\"\"\n",
    " \n",
    "import string\n",
    "import random \n",
    "\n",
    "def random_user_id(num):\n",
    "    characters = string.ascii_letters+string.digits\n",
    "    id = \"\".join(random.choices(characters,k=num))\n",
    "    print(id)\n",
    "    \n",
    "random_user_id(6)"
   ]
  },
  {
   "cell_type": "code",
   "execution_count": 45,
   "metadata": {},
   "outputs": [
    {
     "name": "stdout",
     "output_type": "stream",
     "text": [
      "kMYbOGxwRJKGMEOA\n",
      "OiTWdw1svCdh03Go\n",
      "4wTPovAIhwyYUo65\n",
      "DOnU5Nx432puaGAd\n",
      "1B1pm2fh1XWT4ZaG\n"
     ]
    }
   ],
   "source": [
    "\"\"\" Modify the previous task. Declare a function named user_id_gen_by_user. It doesn’t take any parameters but it takes two inputs using input(). One of the inputs is the number of characters and the second input is the number of IDs which are supposed to be generated.\n",
    "print(user_id_gen_by_user()) # user input: 5 5\n",
    "#output:\n",
    "#kcsy2\n",
    "#SMFYb\n",
    "#bWmeq\n",
    "#ZXOYh\n",
    "#2Rgxf\n",
    "   \n",
    "print(user_id_gen_by_user()) # 16 5\n",
    "#1GCSgPLMaBAVQZ26\n",
    "#YD7eFwNQKNs7qXaT\n",
    "#ycArC5yrRupyG00S\n",
    "#UbGxOFI7UXSWAyKN\n",
    "#dIV0SSUTgAdKwStr \"\"\"\n",
    "\n",
    "\n",
    "\n",
    "import string\n",
    "import random \n",
    "\n",
    "def random_user_id(count,rows):\n",
    "    for i in range(0,rows):\n",
    "        characters = string.ascii_letters+string.digits\n",
    "        id = \"\".join(random.choices(characters,k=count))\n",
    "        print(id)\n",
    "\n",
    "\n",
    "count = int(input(\"enter the count: \"))\n",
    "rows = int(input(\"enter the rows: \"))\n",
    "\n",
    "random_user_id(count,rows)"
   ]
  },
  {
   "cell_type": "code",
   "execution_count": null,
   "metadata": {},
   "outputs": [],
   "source": []
  }
 ],
 "metadata": {
  "kernelspec": {
   "display_name": "Python 3",
   "language": "python",
   "name": "python3"
  },
  "language_info": {
   "codemirror_mode": {
    "name": "ipython",
    "version": 3
   },
   "file_extension": ".py",
   "mimetype": "text/x-python",
   "name": "python",
   "nbconvert_exporter": "python",
   "pygments_lexer": "ipython3",
   "version": "3.10.12"
  },
  "orig_nbformat": 4
 },
 "nbformat": 4,
 "nbformat_minor": 2
}
