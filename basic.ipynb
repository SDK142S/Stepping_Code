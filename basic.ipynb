{
 "cells": [
  {
   "cell_type": "code",
   "execution_count": 1,
   "metadata": {},
   "outputs": [
    {
     "name": "stdout",
     "output_type": "stream",
     "text": [
      "helloworld\n"
     ]
    }
   ],
   "source": [
    "#helloworld\n",
    "print('helloworld')"
   ]
  },
  {
   "cell_type": "code",
   "execution_count": 3,
   "metadata": {},
   "outputs": [
    {
     "name": "stdout",
     "output_type": "stream",
     "text": [
      "10   ssss\n"
     ]
    }
   ],
   "source": [
    "s = 10\n",
    "string ='ssss'\n",
    "print(s,\" \",string)"
   ]
  },
  {
   "cell_type": "code",
   "execution_count": 4,
   "metadata": {},
   "outputs": [
    {
     "name": "stdout",
     "output_type": "stream",
     "text": [
      "10   ssss\n"
     ]
    }
   ],
   "source": [
    "s,string = 10,'ssss'\n",
    "print(s,\" \",string)"
   ]
  },
  {
   "cell_type": "code",
   "execution_count": 12,
   "metadata": {},
   "outputs": [
    {
     "name": "stdout",
     "output_type": "stream",
     "text": [
      "True\n",
      "True True\n",
      "False\n",
      "dragon\n",
      "6\n",
      "6.0\n",
      "6\n"
     ]
    }
   ],
   "source": [
    "print(len('python')==len('dragon'))\n",
    "print('on'in 'python','on' in 'dragon')\n",
    "print('in'in 'python'and 'dragon')\n",
    "print('on'in 'python'and 'dragon')\n",
    "print(len('python'))\n",
    "print(float(len('python')))\n",
    "print(str(len('python')))"
   ]
  },
  {
   "cell_type": "code",
   "execution_count": 20,
   "metadata": {},
   "outputs": [
    {
     "name": "stdout",
     "output_type": "stream",
     "text": [
      "1\n",
      "1000000\n",
      "You have lived for  1000000 seconds\n"
     ]
    }
   ],
   "source": [
    "num = int(input(\"Enter number of years you have lived:\"))\n",
    "print(num)\n",
    "print(1000000*num)\n",
    "print(\"You have lived for \",num * 1000000,\"seconds\")"
   ]
  },
  {
   "cell_type": "code",
   "execution_count": 26,
   "metadata": {},
   "outputs": [
    {
     "name": "stdout",
     "output_type": "stream",
     "text": [
      "1  \n",
      "1  \n",
      "1  \n",
      "1  \n",
      "1  \n"
     ]
    }
   ],
   "source": [
    "a,i = 1,0\n",
    "for i in range(5):print(a ,\" \")"
   ]
  }
 ],
 "metadata": {
  "kernelspec": {
   "display_name": "Python 3",
   "language": "python",
   "name": "python3"
  },
  "language_info": {
   "codemirror_mode": {
    "name": "ipython",
    "version": 3
   },
   "file_extension": ".py",
   "mimetype": "text/x-python",
   "name": "python",
   "nbconvert_exporter": "python",
   "pygments_lexer": "ipython3",
   "version": "3.10.12"
  },
  "orig_nbformat": 4
 },
 "nbformat": 4,
 "nbformat_minor": 2
}
