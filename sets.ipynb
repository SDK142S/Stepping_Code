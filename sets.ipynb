{
 "cells": [
  {
   "cell_type": "code",
   "execution_count": 4,
   "metadata": {},
   "outputs": [
    {
     "name": "stdout",
     "output_type": "stream",
     "text": [
      "3\n",
      "{'IBM', 'TATA', 'google', 'Twitter'}\n",
      "{'IBM', 'Vx', 'TATA', 'Twitter', 'MSFT', 'google'}\n",
      "{'IBM', 'Vx', 'TATA', 'Twitter', 'google'}\n"
     ]
    }
   ],
   "source": [
    "\"\"\" Exercises: Level 1\n",
    "Find the length of the set it_companies\n",
    "Add 'Twitter' to it_companies\n",
    "Insert multiple IT companies at once to the set it_companies\n",
    "Remove one of the companies from the set it_companies\n",
    " \"\"\"\n",
    " \n",
    "it_companies = {'IBM','google','TATA'} \n",
    "print(len(it_companies))\n",
    "it_companies.add('Twitter')\n",
    "print(it_companies)\n",
    "it_companies.update(['MSFT','Vx'])\n",
    "print(it_companies)\n",
    "it_companies.remove('MSFT')\n",
    "print(it_companies)\n"
   ]
  },
  {
   "cell_type": "code",
   "execution_count": 7,
   "metadata": {},
   "outputs": [
    {
     "name": "stdout",
     "output_type": "stream",
     "text": [
      "{'B', 'C'}   False   False   {'B', 'D', 'A', 'C'}   {'A'}  \n"
     ]
    }
   ],
   "source": [
    "\"\"\" Exercises: Level 2\n",
    "Join A and B\n",
    "Find A intersection B\n",
    "Is A subset of B\n",
    "Are A and B disjoint sets\n",
    "Join A with B \n",
    "What is the symmetric difference between A and B\n",
    "Delete the sets completely \"\"\"\n",
    "\n",
    "A = {'A','B','C'}\n",
    "B = {'B','C','D'}\n",
    "print(A.intersection(B),\" \",A.issubset(B),\" \",A.isdisjoint(B),\" \",A.union(B),\" \",A.difference(B),\" \")\n",
    "del A\n",
    "del B\n"
   ]
  },
  {
   "cell_type": "code",
   "execution_count": 12,
   "metadata": {},
   "outputs": [
    {
     "name": "stdout",
     "output_type": "stream",
     "text": [
      "['29', '30', '55']\n",
      "{'29', '55', '30'}\n",
      "False\n",
      "['I', 'am', 'a', 'teacher', 'and', 'I', 'love', 'to', 'inspire', 'and', 'teach', 'people']\n",
      "{'and', 'people', 'am', 'inspire', 'teacher', 'teach', 'a', 'I', 'love', 'to'}\n"
     ]
    }
   ],
   "source": [
    "\"\"\" Exercises: Level 3\n",
    "Convert the ages to a set and compare the length of the list and the set, which one is bigger?\n",
    "I am a teacher and I love to inspire and teach people. How many unique words have been used in the sentence? Use the split methods and set to get the unique words. \"\"\"\n",
    "\n",
    "lst = ['29','30','55']\n",
    "print(lst)\n",
    "st = set(lst)\n",
    "print(st)\n",
    "print(len(lst)<len(st))\n",
    "\n",
    "string = \"I am a teacher and I love to inspire and teach people\"\n",
    "st1 = string.split(' ')\n",
    "print(st1)\n",
    "set1 = set(st1)\n",
    "print(set1)"
   ]
  }
 ],
 "metadata": {
  "kernelspec": {
   "display_name": "Python 3",
   "language": "python",
   "name": "python3"
  },
  "language_info": {
   "codemirror_mode": {
    "name": "ipython",
    "version": 3
   },
   "file_extension": ".py",
   "mimetype": "text/x-python",
   "name": "python",
   "nbconvert_exporter": "python",
   "pygments_lexer": "ipython3",
   "version": "3.10.12"
  },
  "orig_nbformat": 4
 },
 "nbformat": 4,
 "nbformat_minor": 2
}
