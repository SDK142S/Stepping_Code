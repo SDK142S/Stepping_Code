{
 "cells": [
  {
   "cell_type": "code",
   "execution_count": 2,
   "metadata": {},
   "outputs": [
    {
     "name": "stdout",
     "output_type": "stream",
     "text": [
      "['R', 'G', 'B']\n",
      "[('R', 'G', 'B'), ('R', 'B', 'G'), ('G', 'R', 'B'), ('G', 'B', 'R'), ('B', 'R', 'G'), ('B', 'G', 'R')]\n"
     ]
    }
   ],
   "source": [
    "#from itertools import permutations\n",
    "\n",
    "def count(dict):\n",
    "    l1 = []\n",
    "    for i,j in dict.items():\n",
    "        for k in range(j):\n",
    "            l1.append(i)\n",
    "    return l1\n",
    "\n",
    "def permut(l1):\n",
    "    \n",
    "    \n",
    "r = int(input(\"enter the number : \"))\n",
    "g = int(input(\"enter the number : \"))\n",
    "b = int(input(\"enter the number : \"))\n",
    "dict = {'R':r,'G':g,'B':b}\n",
    "l1 = count(dict)\n",
    "print(l1)\n",
    "#comb = permutations(l1)\n",
    "#print(list(comb))\n"
   ]
  }
 ],
 "metadata": {
  "kernelspec": {
   "display_name": "Python 3",
   "language": "python",
   "name": "python3"
  },
  "language_info": {
   "codemirror_mode": {
    "name": "ipython",
    "version": 3
   },
   "file_extension": ".py",
   "mimetype": "text/x-python",
   "name": "python",
   "nbconvert_exporter": "python",
   "pygments_lexer": "ipython3",
   "version": "3.10.12"
  },
  "orig_nbformat": 4
 },
 "nbformat": 4,
 "nbformat_minor": 2
}
