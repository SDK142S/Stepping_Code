{
 "cells": [
  {
   "cell_type": "code",
   "execution_count": 2,
   "metadata": {},
   "outputs": [
    {
     "name": "stdout",
     "output_type": "stream",
     "text": [
      "['R', 'G', 'B']\n",
      "[('R', 'G', 'B'), ('R', 'B', 'G'), ('G', 'R', 'B'), ('G', 'B', 'R'), ('B', 'R', 'G'), ('B', 'G', 'R')]\n"
     ]
    }
   ],
   "source": [
    "#from itertools import permutations\n",
    "\n",
    "def count(dict):\n",
    "    l1 = []\n",
    "    for i,j in dict.items():\n",
    "        for k in range(j):\n",
    "            l1.append(i)\n",
    "    return l1\n",
    "\n",
    "def permut(l1):\n",
    "    \n",
    "    \n",
    "r = int(input(\"enter the number : \"))\n",
    "g = int(input(\"enter the number : \"))\n",
    "b = int(input(\"enter the number : \"))\n",
    "dict = {'R':r,'G':g,'B':b}\n",
    "l1 = count(dict)\n",
    "print(l1)\n",
    "#comb = permutations(l1)\n",
    "#print(list(comb))\n"
   ]
  },
  {
   "cell_type": "code",
   "execution_count": 15,
   "metadata": {},
   "outputs": [
    {
     "name": "stdout",
     "output_type": "stream",
     "text": [
      "Counter({'a': 2, 'b': 2, 'd': 1, 'c': 1})\n",
      "d\n"
     ]
    }
   ],
   "source": [
    "#Write a Python code to find the first non-repeating character in a string\n",
    "from collections import Counter\n",
    "def non_repeating(string):\n",
    "    count = Counter(string)\n",
    "    print(count)\n",
    "    for i in string:\n",
    "        flag = 0\n",
    "        if count[i] == 1:\n",
    "            flag =1\n",
    "            break\n",
    "    if flag ==1:\n",
    "        print(i)\n",
    "    else:\n",
    "        print(\"no non-repeating character\")\n",
    "string = input(\"enter:\")   \n",
    "non_repeating(string)"
   ]
  },
  {
   "cell_type": "code",
   "execution_count": 10,
   "metadata": {},
   "outputs": [
    {
     "name": "stdout",
     "output_type": "stream",
     "text": [
      "['A', 'B', 'C', 'D', 'E', 'F', 'G', 'H', 'I', 'J', 'K', 'L', 'M', 'N', 'O', 'P', 'Q', 'R', 'S', 'T', 'U', 'V', 'W', 'X', 'Y', 'Z']\n",
      "2\n"
     ]
    }
   ],
   "source": [
    "#Write a Python code to count the number of uppercase letters in a string\n",
    "\n",
    "import string\n",
    "\n",
    "def count_uppercase(word,values):\n",
    "    count=0\n",
    "    for val in word:\n",
    "        if val in values:\n",
    "            count +=1\n",
    "    print(count)\n",
    "\n",
    "values = list(string.ascii_uppercase)\n",
    "print(values)\n",
    "string = input(\"enter:\")\n",
    "count_uppercase(string,values)\n",
    "    "
   ]
  }
 ],
 "metadata": {
  "kernelspec": {
   "display_name": "Python 3",
   "language": "python",
   "name": "python3"
  },
  "language_info": {
   "codemirror_mode": {
    "name": "ipython",
    "version": 3
   },
   "file_extension": ".py",
   "mimetype": "text/x-python",
   "name": "python",
   "nbconvert_exporter": "python",
   "pygments_lexer": "ipython3",
   "version": "3.10.12"
  },
  "orig_nbformat": 4
 },
 "nbformat": 4,
 "nbformat_minor": 2
}
