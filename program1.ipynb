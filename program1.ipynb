{
 "cells": [
  {
   "cell_type": "code",
   "execution_count": 2,
   "metadata": {},
   "outputs": [
    {
     "name": "stdout",
     "output_type": "stream",
     "text": [
      "['R', 'G', 'B']\n",
      "[('R', 'G', 'B'), ('R', 'B', 'G'), ('G', 'R', 'B'), ('G', 'B', 'R'), ('B', 'R', 'G'), ('B', 'G', 'R')]\n"
     ]
    }
   ],
   "source": [
    "#from itertools import permutations\n",
    "\n",
    "def count(dict):\n",
    "    l1 = []\n",
    "    for i,j in dict.items():\n",
    "        for k in range(j):\n",
    "            l1.append(i)\n",
    "    return l1\n",
    "\n",
    "def permut(l1):\n",
    "    \n",
    "    \n",
    "r = int(input(\"enter the number : \"))\n",
    "g = int(input(\"enter the number : \"))\n",
    "b = int(input(\"enter the number : \"))\n",
    "dict = {'R':r,'G':g,'B':b}\n",
    "l1 = count(dict)\n",
    "print(l1)\n",
    "#comb = permutations(l1)\n",
    "#print(list(comb))\n"
   ]
  },
  {
   "cell_type": "code",
   "execution_count": 1,
   "metadata": {},
   "outputs": [
    {
     "ename": "TypeError",
     "evalue": "string indices must be integers",
     "output_type": "error",
     "traceback": [
      "\u001b[0;31m---------------------------------------------------------------------------\u001b[0m",
      "\u001b[0;31mTypeError\u001b[0m                                 Traceback (most recent call last)",
      "\u001b[1;32m/home/seetha/Desktop/Stepping_Code/program1.ipynb Cell 2\u001b[0m line \u001b[0;36m1\n\u001b[1;32m     <a href='vscode-notebook-cell:/home/seetha/Desktop/Stepping_Code/program1.ipynb#W1sZmlsZQ%3D%3D?line=11'>12</a>\u001b[0m             \u001b[39mbreak\u001b[39;00m\n\u001b[1;32m     <a href='vscode-notebook-cell:/home/seetha/Desktop/Stepping_Code/program1.ipynb#W1sZmlsZQ%3D%3D?line=13'>14</a>\u001b[0m string \u001b[39m=\u001b[39m \u001b[39minput\u001b[39m(\u001b[39m\"\u001b[39m\u001b[39mEnter the string : \u001b[39m\u001b[39m\"\u001b[39m)\n\u001b[0;32m---> <a href='vscode-notebook-cell:/home/seetha/Desktop/Stepping_Code/program1.ipynb#W1sZmlsZQ%3D%3D?line=14'>15</a>\u001b[0m non_repeating(string)   \n",
      "\u001b[1;32m/home/seetha/Desktop/Stepping_Code/program1.ipynb Cell 2\u001b[0m line \u001b[0;36m6\n\u001b[1;32m      <a href='vscode-notebook-cell:/home/seetha/Desktop/Stepping_Code/program1.ipynb#W1sZmlsZQ%3D%3D?line=3'>4</a>\u001b[0m length \u001b[39m=\u001b[39m \u001b[39mlen\u001b[39m(string)\n\u001b[1;32m      <a href='vscode-notebook-cell:/home/seetha/Desktop/Stepping_Code/program1.ipynb#W1sZmlsZQ%3D%3D?line=4'>5</a>\u001b[0m \u001b[39mfor\u001b[39;00m char \u001b[39min\u001b[39;00m string:\n\u001b[0;32m----> <a href='vscode-notebook-cell:/home/seetha/Desktop/Stepping_Code/program1.ipynb#W1sZmlsZQ%3D%3D?line=5'>6</a>\u001b[0m     val \u001b[39m=\u001b[39m string[char]\u001b[39m+\u001b[39m\u001b[39m1\u001b[39m\n\u001b[1;32m      <a href='vscode-notebook-cell:/home/seetha/Desktop/Stepping_Code/program1.ipynb#W1sZmlsZQ%3D%3D?line=6'>7</a>\u001b[0m     \u001b[39mfor\u001b[39;00m val \u001b[39min\u001b[39;00m \u001b[39mrange\u001b[39m(length):\n\u001b[1;32m      <a href='vscode-notebook-cell:/home/seetha/Desktop/Stepping_Code/program1.ipynb#W1sZmlsZQ%3D%3D?line=7'>8</a>\u001b[0m         \u001b[39mif\u001b[39;00m char \u001b[39m==\u001b[39m string[val]:\n",
      "\u001b[0;31mTypeError\u001b[0m: string indices must be integers"
     ]
    }
   ],
   "source": [
    "#Write a Python code to find the first non-repeating character in a string\n",
    "def non_repeating(string):\n",
    "    flag =0\n",
    "    length = len(string)\n",
    "    for char in string:\n",
    "        val = string.index(char)+1\n",
    "        for val in range(length):\n",
    "            if char == string[val]:\n",
    "                flag =1\n",
    "        if flag == 0:\n",
    "            print(char)\n",
    "            break\n",
    "\n",
    "string = input(\"Enter the string : \")\n",
    "non_repeating(string)   \n",
    "        "
   ]
  }
 ],
 "metadata": {
  "kernelspec": {
   "display_name": "Python 3",
   "language": "python",
   "name": "python3"
  },
  "language_info": {
   "codemirror_mode": {
    "name": "ipython",
    "version": 3
   },
   "file_extension": ".py",
   "mimetype": "text/x-python",
   "name": "python",
   "nbconvert_exporter": "python",
   "pygments_lexer": "ipython3",
   "version": "3.10.12"
  },
  "orig_nbformat": 4
 },
 "nbformat": 4,
 "nbformat_minor": 2
}
