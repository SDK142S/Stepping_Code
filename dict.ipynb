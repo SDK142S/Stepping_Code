{
 "cells": [
  {
   "cell_type": "code",
   "execution_count": 1,
   "metadata": {},
   "outputs": [
    {
     "name": "stdout",
     "output_type": "stream",
     "text": [
      "{}\n"
     ]
    }
   ],
   "source": [
    "\"\"\" Create an empty dictionary called dog\n",
    "Add name, color, breed, legs, age to the dog dictionary\n",
    "Create a student dictionary and add first_name, last_name, gender, age, marital status, skills, country, city and address as keys for the dictionary\n",
    "Get the length of the student dictionary\n",
    "Get the value of skills and check the data type, it should be a list\n",
    "Modify the skills values by adding one or two skills\n",
    "Get the dictionary keys as a list\n",
    "Get the dictionary values as a list\n",
    "Change the dictionary to a list of tuples using items() method\n",
    "Delete one of the items in the dictionary\n",
    "Delete one of the dictionaries\n",
    " \"\"\"\n",
    " \n",
    "dog = dict()\n",
    "print(dog)\n",
    "dog = {'name':'GS','color':'brown'}\n",
    "print(dog)"
   ]
  }
 ],
 "metadata": {
  "kernelspec": {
   "display_name": "Python 3",
   "language": "python",
   "name": "python3"
  },
  "language_info": {
   "codemirror_mode": {
    "name": "ipython",
    "version": 3
   },
   "file_extension": ".py",
   "mimetype": "text/x-python",
   "name": "python",
   "nbconvert_exporter": "python",
   "pygments_lexer": "ipython3",
   "version": "3.10.12"
  },
  "orig_nbformat": 4
 },
 "nbformat": 4,
 "nbformat_minor": 2
}
